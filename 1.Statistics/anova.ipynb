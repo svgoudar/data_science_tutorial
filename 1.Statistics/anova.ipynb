{
 "cells": [
  {
   "cell_type": "code",
   "execution_count": 1,
   "id": "3a62efc5-71fe-4687-ab01-3a751b424001",
   "metadata": {},
   "outputs": [
    {
     "name": "stdout",
     "output_type": "stream",
     "text": [
      "Requirement already satisfied: seaborn in c:\\users\\test\\appdata\\local\\programs\\python\\python39\\lib\\site-packages (0.13.2)\n",
      "Requirement already satisfied: plotnine in c:\\users\\test\\appdata\\local\\programs\\python\\python39\\lib\\site-packages (0.13.6)\n",
      "Requirement already satisfied: matplotlib in c:\\users\\test\\appdata\\local\\programs\\python\\python39\\lib\\site-packages (3.9.2)\n",
      "Requirement already satisfied: pandas in c:\\users\\test\\appdata\\local\\programs\\python\\python39\\lib\\site-packages (2.2.2)\n",
      "Requirement already satisfied: numpy!=1.24.0,>=1.20 in c:\\users\\test\\appdata\\local\\programs\\python\\python39\\lib\\site-packages (from seaborn) (1.26.4)\n",
      "Requirement already satisfied: mizani~=0.11.0 in c:\\users\\test\\appdata\\local\\programs\\python\\python39\\lib\\site-packages (from plotnine) (0.11.4)\n",
      "Requirement already satisfied: scipy>=1.7.0 in c:\\users\\test\\appdata\\local\\programs\\python\\python39\\lib\\site-packages (from plotnine) (1.13.1)\n",
      "Requirement already satisfied: statsmodels>=0.14.0 in c:\\users\\test\\appdata\\local\\programs\\python\\python39\\lib\\site-packages (from plotnine) (0.14.2)\n",
      "Requirement already satisfied: contourpy>=1.0.1 in c:\\users\\test\\appdata\\local\\programs\\python\\python39\\lib\\site-packages (from matplotlib) (1.2.1)\n",
      "Requirement already satisfied: cycler>=0.10 in c:\\users\\test\\appdata\\local\\programs\\python\\python39\\lib\\site-packages (from matplotlib) (0.12.1)\n",
      "Requirement already satisfied: fonttools>=4.22.0 in c:\\users\\test\\appdata\\local\\programs\\python\\python39\\lib\\site-packages (from matplotlib) (4.53.0)\n",
      "Requirement already satisfied: kiwisolver>=1.3.1 in c:\\users\\test\\appdata\\local\\programs\\python\\python39\\lib\\site-packages (from matplotlib) (1.4.5)\n",
      "Requirement already satisfied: packaging>=20.0 in c:\\users\\test\\appdata\\local\\programs\\python\\python39\\lib\\site-packages (from matplotlib) (24.1)\n",
      "Requirement already satisfied: pillow>=8 in c:\\users\\test\\appdata\\local\\programs\\python\\python39\\lib\\site-packages (from matplotlib) (10.3.0)\n",
      "Requirement already satisfied: pyparsing>=2.3.1 in c:\\users\\test\\appdata\\local\\programs\\python\\python39\\lib\\site-packages (from matplotlib) (3.1.2)\n",
      "Requirement already satisfied: python-dateutil>=2.7 in c:\\users\\test\\appdata\\local\\programs\\python\\python39\\lib\\site-packages (from matplotlib) (2.9.0.post0)\n",
      "Requirement already satisfied: importlib-resources>=3.2.0 in c:\\users\\test\\appdata\\local\\programs\\python\\python39\\lib\\site-packages (from matplotlib) (6.4.0)\n",
      "Requirement already satisfied: pytz>=2020.1 in c:\\users\\test\\appdata\\local\\programs\\python\\python39\\lib\\site-packages (from pandas) (2024.1)\n",
      "Requirement already satisfied: tzdata>=2022.7 in c:\\users\\test\\appdata\\local\\programs\\python\\python39\\lib\\site-packages (from pandas) (2024.1)\n",
      "Requirement already satisfied: zipp>=3.1.0 in c:\\users\\test\\appdata\\local\\programs\\python\\python39\\lib\\site-packages (from importlib-resources>=3.2.0->matplotlib) (3.19.2)\n",
      "Requirement already satisfied: six>=1.5 in c:\\users\\test\\appdata\\local\\programs\\python\\python39\\lib\\site-packages (from python-dateutil>=2.7->matplotlib) (1.16.0)\n",
      "Requirement already satisfied: patsy>=0.5.6 in c:\\users\\test\\appdata\\local\\programs\\python\\python39\\lib\\site-packages (from statsmodels>=0.14.0->plotnine) (0.5.6)\n"
     ]
    },
    {
     "name": "stderr",
     "output_type": "stream",
     "text": [
      "\n",
      "[notice] A new release of pip is available: 24.2 -> 24.3.1\n",
      "[notice] To update, run: python.exe -m pip install --upgrade pip\n"
     ]
    }
   ],
   "source": [
    "!pip3 install seaborn plotnine matplotlib pandas "
   ]
  },
  {
   "cell_type": "code",
   "execution_count": 4,
   "id": "00db610b-ae33-44a5-b35b-8c99add9bebd",
   "metadata": {},
   "outputs": [
    {
     "ename": "TypeError",
     "evalue": "from_formula() missing 1 required positional argument: 'formula'",
     "output_type": "error",
     "traceback": [
      "\u001b[1;31m---------------------------------------------------------------------------\u001b[0m",
      "\u001b[1;31mTypeError\u001b[0m                                 Traceback (most recent call last)",
      "Cell \u001b[1;32mIn[4], line 10\u001b[0m\n\u001b[0;32m      8\u001b[0m df \u001b[38;5;241m=\u001b[39m pd\u001b[38;5;241m.\u001b[39mread_csv(\u001b[38;5;124m'\u001b[39m\u001b[38;5;124manova.csv\u001b[39m\u001b[38;5;124m'\u001b[39m)\n\u001b[0;32m      9\u001b[0m set_option(\u001b[38;5;124m'\u001b[39m\u001b[38;5;124mdisplay.max_rows\u001b[39m\u001b[38;5;124m'\u001b[39m, df\u001b[38;5;241m.\u001b[39mshape[\u001b[38;5;241m0\u001b[39m]\u001b[38;5;241m+\u001b[39m\u001b[38;5;241m1\u001b[39m)\n\u001b[1;32m---> 10\u001b[0m my_mod \u001b[38;5;241m=\u001b[39m \u001b[43mols\u001b[49m\u001b[43m(\u001b[49m\u001b[43mdata\u001b[49m\u001b[38;5;241;43m=\u001b[39;49m\u001b[43mdf\u001b[49m\u001b[43m)\u001b[49m\u001b[38;5;241m.\u001b[39mfit()\n\u001b[0;32m     11\u001b[0m aovtable \u001b[38;5;241m=\u001b[39m sm\u001b[38;5;241m.\u001b[39mstats\u001b[38;5;241m.\u001b[39manova_lm(mymod, typ \u001b[38;5;241m=\u001b[39m \u001b[38;5;241m2\u001b[39m)\n\u001b[0;32m     12\u001b[0m \u001b[38;5;28mprint\u001b[39m(aovtable)  \n",
      "\u001b[1;31mTypeError\u001b[0m: from_formula() missing 1 required positional argument: 'formula'"
     ]
    }
   ],
   "source": [
    "from pandas import set_option\n",
    "from scipy.stats import stats\n",
    "from statsmodels.formula.api import ols\n",
    "import statsmodels.api as sm\n",
    "import pandas as pd\n",
    "\n",
    "\n",
    "df = pd.read_csv('anova.csv')\n",
    "set_option('display.max_rows', df.shape[0]+1)\n",
    "my_mod = ols(data=df,formula=).fit()\n",
    "aovtable = sm.stats.anova_lm(mymod, typ = 2)\n",
    "print(aovtable)\n",
    "\n",
    "\n",
    "# print([x**2 for x in df['15mg']])\n",
    "# sum(list(map(lambda x : x**2,df['15mg']+df['45mg'])))\n",
    "\n",
    "# df.15mg\n",
    "# stats.f_oneway(df['15mg'],df['30mg'],df['45mg'])"
   ]
  },
  {
   "cell_type": "code",
   "execution_count": 6,
   "id": "717b07cd-5507-4d65-836b-d2f21ec19f9e",
   "metadata": {},
   "outputs": [
    {
     "name": "stdout",
     "output_type": "stream",
     "text": [
      "            df     sum_sq    mean_sq          F        PR(>F)\n",
      "C(Dose)    2.0  98.666667  49.333333  86.333333  5.956341e-10\n",
      "Residual  18.0  10.285714   0.571429        NaN           NaN\n",
      "             sum_sq    df          F        PR(>F)\n",
      "C(Dose)   98.666667   2.0  86.333333  5.956341e-10\n",
      "Residual  10.285714  18.0        NaN           NaN\n"
     ]
    }
   ],
   "source": [
    "import pandas as pd\n",
    "import statsmodels.api as sm\n",
    "from statsmodels.formula.api import ols\n",
    "\n",
    "# Create a DataFrame with the data\n",
    "data = {\n",
    "    'Dose': ['15mg']*7 + ['30mg']*7 + ['45mg']*7,\n",
    "    'Response': [9, 8, 7, 8, 8, 9, 8, 7, 6, 6, 7, 8, 7, 6, 4, 3, 2, 3, 4, 3, 2]\n",
    "}\n",
    "\n",
    "df = pd.DataFrame(data)\n",
    "\n",
    "# Perform one-way ANOVA using ols and statsmodels\n",
    "# Response \n",
    "model = ols('Response ~ C(Dose)', data=df).fit()\n",
    "anova_results = sm.stats.anova_lm(model, typ=1)\n",
    "anova_result_1 = sm.stats.anova_lm(model, typ=2)\n",
    "\n",
    "print(anova_results)\n",
    "print(anova_result_1)\n"
   ]
  },
  {
   "cell_type": "code",
   "execution_count": 39,
   "id": "c67345cb-7a89-4eb9-9f9c-54fd90249bdd",
   "metadata": {},
   "outputs": [
    {
     "name": "stdout",
     "output_type": "stream",
     "text": [
      "5.956341546174783e-10\n"
     ]
    }
   ],
   "source": [
    "from scipy.stats import f\n",
    "\n",
    "# Define the F-statistic and degrees of freedom\n",
    "F = 86.333333\n",
    "dfn = 2  # Degrees of freedom for the numerator\n",
    "dfd = 18  # Degrees of freedom for the denominator\n",
    "\n",
    "# Calculate the p-value\n",
    "p_value = f.sf(F, dfn, dfd)\n",
    "print(p_value)\n"
   ]
  },
  {
   "cell_type": "code",
   "execution_count": 46,
   "id": "e6fc9990-19ba-487a-ae16-fca112a462c4",
   "metadata": {},
   "outputs": [
    {
     "name": "stdout",
     "output_type": "stream",
     "text": [
      "       Multiple Comparison of Means - Tukey HSD, FWER=0.05        \n",
      "==================================================================\n",
      "    group1        group2    meandiff p-adj   lower   upper  reject\n",
      "------------------------------------------------------------------\n",
      "       Canada        France   0.8589 0.7993 -1.0773  2.7951  False\n",
      "       Canada       Germany  -1.9808  0.018 -3.7478 -0.2138   True\n",
      "       Canada Great Britain  -1.0859 0.5327  -2.919  0.7472  False\n",
      "       Canada         Japan   0.8481 0.7366 -0.9108   2.607  False\n",
      "       Canada           USA  -2.8637 0.0001 -4.6226 -1.1048   True\n",
      "       France       Germany  -2.8397 0.0003 -4.7237 -0.9557   True\n",
      "       France Great Britain  -1.9448 0.0503 -3.8909  0.0013  False\n",
      "       France         Japan  -0.0108    1.0 -1.8872  1.8656  False\n",
      "       France           USA  -3.7226    0.0  -5.599 -1.8462   True\n",
      "      Germany Great Britain   0.8949 0.6995  -0.883  2.6729  False\n",
      "      Germany         Japan   2.8289    0.0  1.1276  4.5302   True\n",
      "      Germany           USA  -0.8829 0.6713 -2.5842  0.8184  False\n",
      "Great Britain         Japan    1.934 0.0231  0.1641  3.7038   True\n",
      "Great Britain           USA  -1.7778 0.0483 -3.5476 -0.0079   True\n",
      "        Japan           USA  -3.7118    0.0 -5.4046 -2.0189   True\n",
      "------------------------------------------------------------------\n"
     ]
    }
   ],
   "source": [
    "import seaborn as sbn\n",
    "sbn.get_dataset_names()\n",
    "healthexpec = sbn.load_dataset(\"healthexp\")\n",
    "from statsmodels.stats.multicomp import pairwise_tukeyhsd\n",
    "print(pairwise_tukeyhsd(healthexpec['Life_Expectancy'], healthexpec['Country']))"
   ]
  },
  {
   "cell_type": "code",
   "execution_count": 47,
   "id": "a6fc5119-6374-48ea-be30-0278f8c1fddb",
   "metadata": {},
   "outputs": [
    {
     "name": "stdout",
     "output_type": "stream",
     "text": [
      "T-statistic: -3.2786255884723627, P-value: 0.013512634109533926\n"
     ]
    }
   ],
   "source": [
    "from scipy import stats\n",
    "\n",
    "# Sample data\n",
    "sample_data = [2.3, 2.5, 3.1, 2.8, 2.9, 2.4, 2.7, 2.8]\n",
    "population_mean = 3.0\n",
    "\n",
    "# Perform t-test\n",
    "t_stat, p_value = stats.ttest_1samp(sample_data, population_mean)\n",
    "print(f\"T-statistic: {t_stat}, P-value: {p_value}\")\n"
   ]
  },
  {
   "cell_type": "markdown",
   "id": "ac421691-7806-4624-8780-248900d699a6",
   "metadata": {},
   "source": [
    "ANOVA (Analysis of Variance) is a statistical method used to test differences between two or more means. There are different types of ANOVA depending on the number of factors and the design of the experiment. Here’s a breakdown of the main types of ANOVA with code examples in Python:\n",
    "\n",
    "1. **One-Way ANOVA**\n",
    "2. **Two-Way ANOVA**\n",
    "3. **Repeated Measures ANOVA**\n",
    "4. **MANOVA (Multivariate ANOVA)**\n",
    "\n",
    "We'll use Python libraries like `scipy.stats`, `statsmodels`, and `pingouin` for these analyses.\n",
    "\n",
    "---\n",
    "\n",
    "### 1. One-Way ANOVA\n",
    "\n",
    "**Use Case**: Test if there are significant differences between the means of more than two groups based on a single factor.\n",
    "\n",
    "**Code Example**:\n",
    "```python\n",
    "import scipy.stats as stats\n",
    "\n",
    "# Sample data for three groups\n",
    "group1 = [23, 20, 27, 22, 30]\n",
    "group2 = [17, 18, 20, 21, 24]\n",
    "group3 = [25, 24, 28, 22, 26]\n",
    "\n",
    "# Perform one-way ANOVA\n",
    "f_statistic, p_value = stats.f_oneway(group1, group2, group3)\n",
    "\n",
    "print(f\"F-statistic: {f_statistic}\")\n",
    "print(f\"P-value: {p_value}\")\n",
    "```\n",
    "\n",
    "If the p-value is below a significance threshold (e.g., 0.05), we reject the null hypothesis and conclude that there is a significant difference between group means.\n",
    "\n",
    "---\n",
    "\n",
    "### 2. Two-Way ANOVA\n",
    "\n",
    "**Use Case**: Test if there are significant differences between groups considering two factors. For example, testing if the effect of a drug differs by dose and gender.\n",
    "\n",
    "**Code Example**:\n",
    "```python\n",
    "import pandas as pd\n",
    "import statsmodels.api as sm\n",
    "from statsmodels.formula.api import ols\n",
    "\n",
    "# Sample data for two-way ANOVA\n",
    "data = {\n",
    "    'response': [20, 21, 19, 30, 27, 28, 24, 25, 24, 29, 32, 30],\n",
    "    'factorA': ['Low', 'Low', 'Low', 'High', 'High', 'High', 'Low', 'Low', 'High', 'High', 'Low', 'Low'],\n",
    "    'factorB': ['Male', 'Female', 'Female', 'Male', 'Female', 'Female', 'Male', 'Male', 'Female', 'Female', 'Male', 'Male']\n",
    "}\n",
    "\n",
    "df = pd.DataFrame(data)\n",
    "\n",
    "# Fit the two-way ANOVA model\n",
    "model = ols('response ~ C(factorA) + C(factorB) + C(factorA):C(factorB)', data=df).fit()\n",
    "anova_table = sm.stats.anova_lm(model, typ=2)\n",
    "\n",
    "print(anova_table)\n",
    "```\n",
    "\n",
    "This model shows the main effects of `factorA` and `factorB`, as well as their interaction effect (`C(factorA):C(factorB)`).\n",
    "\n",
    "---\n",
    "\n",
    "### 3. Repeated Measures ANOVA\n",
    "\n",
    "**Use Case**: Test for differences between groups when the same subjects are measured multiple times. For example, testing patient responses to different drugs over time.\n",
    "\n",
    "For repeated measures ANOVA, you can use `pingouin`, a statistical package that makes it easy to perform this analysis in Python.\n",
    "\n",
    "**Code Example**:\n",
    "```python\n",
    "import pingouin as pg\n",
    "import pandas as pd\n",
    "\n",
    "# Sample data for repeated measures ANOVA\n",
    "data = pd.DataFrame({\n",
    "    'subject': ['S1', 'S1', 'S1', 'S2', 'S2', 'S2', 'S3', 'S3', 'S3'],\n",
    "    'time': ['T1', 'T2', 'T3', 'T1', 'T2', 'T3', 'T1', 'T2', 'T3'],\n",
    "    'score': [5, 10, 15, 7, 12, 17, 8, 11, 14]\n",
    "})\n",
    "\n",
    "# Perform repeated measures ANOVA\n",
    "aov = pg.rm_anova(dv='score', within='time', subject='subject', data=data)\n",
    "\n",
    "print(aov)\n",
    "```\n",
    "\n",
    "This will provide an ANOVA table with F-statistic and p-value for the effect of `time`.\n",
    "\n",
    "---\n",
    "\n",
    "### 4. MANOVA (Multivariate ANOVA)\n",
    "\n",
    "**Use Case**: Test for differences in multiple dependent variables across groups. For instance, testing if groups differ based on multiple outcomes (like height, weight, and blood pressure).\n",
    "\n",
    "**Code Example**:\n",
    "```python\n",
    "from statsmodels.multivariate.manova import MANOVA\n",
    "\n",
    "# Sample data for MANOVA\n",
    "data = pd.DataFrame({\n",
    "    'group': ['A', 'A', 'A', 'B', 'B', 'B', 'C', 'C', 'C'],\n",
    "    'height': [5.8, 5.7, 5.9, 6.0, 5.9, 6.1, 5.6, 5.7, 5.8],\n",
    "    'weight': [70, 72, 68, 75, 73, 76, 65, 66, 64],\n",
    "    'bp': [120, 118, 119, 125, 123, 122, 115, 116, 114]\n",
    "})\n",
    "\n",
    "# Fit the MANOVA model\n",
    "manova = MANOVA.from_formula('height + weight + bp ~ group', data=data)\n",
    "result = manova.mv_test()\n",
    "\n",
    "print(result)\n",
    "```\n",
    "\n",
    "MANOVA tests whether the combination of multiple dependent variables differs across groups. The output shows multivariate statistics (e.g., Wilks' Lambda) and p-values.\n",
    "\n",
    "---\n",
    "\n",
    "### Summary\n",
    "\n",
    "| Type                   | Purpose                                                                                  | Example Code                         |\n",
    "|------------------------|------------------------------------------------------------------------------------------|--------------------------------------|\n",
    "| **One-Way ANOVA**      | Test differences between means across one factor.                                        | `stats.f_oneway`                     |\n",
    "| **Two-Way ANOVA**      | Test differences across two factors, including interaction effects.                      | `statsmodels` with OLS               |\n",
    "| **Repeated Measures**  | Test differences over time or repeated measures on the same subjects.                    | `pingouin.rm_anova`                  |\n",
    "| **MANOVA**             | Test differences in multiple dependent variables across groups.                          | `statsmodels.multivariate.MANOVA`    |\n",
    "\n",
    "Each ANOVA type helps in different scenarios, and Python libraries provide robust tools to implement them. For more complex data structures, considering mixed models or advanced packages might also be beneficial."
   ]
  },
  {
   "cell_type": "code",
   "execution_count": 5,
   "id": "52d6c763-ff04-4457-b8e2-bbeafcc5497d",
   "metadata": {},
   "outputs": [
    {
     "name": "stdout",
     "output_type": "stream",
     "text": [
      "F-statistic: 3.881944444444447\n",
      "P-value: 0.05010176831955083\n"
     ]
    }
   ],
   "source": [
    "import scipy.stats as stats\n",
    "\n",
    "# Sample data for three groups\n",
    "group1 = [23, 20, 27, 22, 30]\n",
    "group2 = [17, 18, 20, 21, 24]\n",
    "group3 = [25, 24, 28, 22, 26]\n",
    "\n",
    "# Perform one-way ANOVA\n",
    "f_statistic, p_value = stats.f_oneway(group1, group2, group3)\n",
    "\n",
    "print(f\"F-statistic: {f_statistic}\")\n",
    "print(f\"P-value: {p_value}\")"
   ]
  },
  {
   "cell_type": "code",
   "execution_count": 17,
   "id": "5d188902-865e-417f-b125-0005c113798f",
   "metadata": {},
   "outputs": [
    {
     "name": "stdout",
     "output_type": "stream",
     "text": [
      "Repeated Measures ANOVA:\n",
      "      Source         SS  DF         MS         F     p-unc       ng2       eps\n",
      "0  condition   42.61692   2  21.308460  2.084187  0.153408  0.134864  0.993306\n",
      "1      Error  184.02971  18  10.223873       NaN       NaN       NaN       NaN\n"
     ]
    }
   ],
   "source": [
    "import pandas as pd\n",
    "import numpy as np\n",
    "import pingouin as pg\n",
    "\n",
    "# Mock data\n",
    "np.random.seed(0)\n",
    "data = pd.DataFrame({\n",
    "    'subject': np.repeat(np.arange(10), 3),\n",
    "    'condition': np.tile(['A', 'B', 'C'], 10),\n",
    "    'score': np.random.normal(loc=10, scale=3, size=30)\n",
    "})\n",
    "\n",
    "# Perform Repeated Measures ANOVA\n",
    "aov = pg.rm_anova(data=data, dv='score', within='condition', subject='subject', detailed=True)\n",
    "print(\"Repeated Measures ANOVA:\")\n",
    "print(aov)\n"
   ]
  },
  {
   "cell_type": "code",
   "execution_count": 11,
   "id": "fcfafd16-6593-4baa-a3ab-959b98a1efb3",
   "metadata": {},
   "outputs": [
    {
     "name": "stdout",
     "output_type": "stream",
     "text": [
      "Requirement already satisfied: pingouin in c:\\users\\test\\appdata\\local\\programs\\python\\python39\\lib\\site-packages (0.5.5)\n",
      "Requirement already satisfied: matplotlib in c:\\users\\test\\appdata\\local\\programs\\python\\python39\\lib\\site-packages (from pingouin) (3.9.2)\n",
      "Requirement already satisfied: numpy in c:\\users\\test\\appdata\\local\\programs\\python\\python39\\lib\\site-packages (from pingouin) (1.26.4)\n",
      "Requirement already satisfied: pandas>=1.5 in c:\\users\\test\\appdata\\local\\programs\\python\\python39\\lib\\site-packages (from pingouin) (2.2.2)\n",
      "Requirement already satisfied: pandas-flavor in c:\\users\\test\\appdata\\local\\programs\\python\\python39\\lib\\site-packages (from pingouin) (0.6.0)\n",
      "Requirement already satisfied: scikit-learn>=1.2 in c:\\users\\test\\appdata\\local\\programs\\python\\python39\\lib\\site-packages (from pingouin) (1.5.0)\n",
      "Requirement already satisfied: scipy in c:\\users\\test\\appdata\\local\\programs\\python\\python39\\lib\\site-packages (from pingouin) (1.13.1)\n",
      "Requirement already satisfied: seaborn in c:\\users\\test\\appdata\\local\\programs\\python\\python39\\lib\\site-packages (from pingouin) (0.13.2)\n",
      "Requirement already satisfied: statsmodels in c:\\users\\test\\appdata\\local\\programs\\python\\python39\\lib\\site-packages (from pingouin) (0.14.2)\n",
      "Requirement already satisfied: tabulate in c:\\users\\test\\appdata\\local\\programs\\python\\python39\\lib\\site-packages (from pingouin) (0.9.0)\n",
      "Requirement already satisfied: python-dateutil>=2.8.2 in c:\\users\\test\\appdata\\local\\programs\\python\\python39\\lib\\site-packages (from pandas>=1.5->pingouin) (2.9.0.post0)\n",
      "Requirement already satisfied: pytz>=2020.1 in c:\\users\\test\\appdata\\local\\programs\\python\\python39\\lib\\site-packages (from pandas>=1.5->pingouin) (2024.1)\n",
      "Requirement already satisfied: tzdata>=2022.7 in c:\\users\\test\\appdata\\local\\programs\\python\\python39\\lib\\site-packages (from pandas>=1.5->pingouin) (2024.1)\n",
      "Requirement already satisfied: joblib>=1.2.0 in c:\\users\\test\\appdata\\local\\programs\\python\\python39\\lib\\site-packages (from scikit-learn>=1.2->pingouin) (1.4.2)\n",
      "Requirement already satisfied: threadpoolctl>=3.1.0 in c:\\users\\test\\appdata\\local\\programs\\python\\python39\\lib\\site-packages (from scikit-learn>=1.2->pingouin) (3.5.0)\n",
      "Requirement already satisfied: contourpy>=1.0.1 in c:\\users\\test\\appdata\\local\\programs\\python\\python39\\lib\\site-packages (from matplotlib->pingouin) (1.2.1)\n",
      "Requirement already satisfied: cycler>=0.10 in c:\\users\\test\\appdata\\local\\programs\\python\\python39\\lib\\site-packages (from matplotlib->pingouin) (0.12.1)\n",
      "Requirement already satisfied: fonttools>=4.22.0 in c:\\users\\test\\appdata\\local\\programs\\python\\python39\\lib\\site-packages (from matplotlib->pingouin) (4.53.0)\n",
      "Requirement already satisfied: kiwisolver>=1.3.1 in c:\\users\\test\\appdata\\local\\programs\\python\\python39\\lib\\site-packages (from matplotlib->pingouin) (1.4.5)\n",
      "Requirement already satisfied: packaging>=20.0 in c:\\users\\test\\appdata\\local\\programs\\python\\python39\\lib\\site-packages (from matplotlib->pingouin) (24.1)\n",
      "Requirement already satisfied: pillow>=8 in c:\\users\\test\\appdata\\local\\programs\\python\\python39\\lib\\site-packages (from matplotlib->pingouin) (10.3.0)\n",
      "Requirement already satisfied: pyparsing>=2.3.1 in c:\\users\\test\\appdata\\local\\programs\\python\\python39\\lib\\site-packages (from matplotlib->pingouin) (3.1.2)\n",
      "Requirement already satisfied: importlib-resources>=3.2.0 in c:\\users\\test\\appdata\\local\\programs\\python\\python39\\lib\\site-packages (from matplotlib->pingouin) (6.4.0)\n",
      "Requirement already satisfied: xarray in c:\\users\\test\\appdata\\local\\programs\\python\\python39\\lib\\site-packages (from pandas-flavor->pingouin) (2024.7.0)\n",
      "Requirement already satisfied: patsy>=0.5.6 in c:\\users\\test\\appdata\\local\\programs\\python\\python39\\lib\\site-packages (from statsmodels->pingouin) (0.5.6)\n",
      "Requirement already satisfied: zipp>=3.1.0 in c:\\users\\test\\appdata\\local\\programs\\python\\python39\\lib\\site-packages (from importlib-resources>=3.2.0->matplotlib->pingouin) (3.19.2)\n",
      "Requirement already satisfied: six in c:\\users\\test\\appdata\\local\\programs\\python\\python39\\lib\\site-packages (from patsy>=0.5.6->statsmodels->pingouin) (1.16.0)\n"
     ]
    },
    {
     "name": "stderr",
     "output_type": "stream",
     "text": [
      "\n",
      "[notice] A new release of pip is available: 24.2 -> 24.3.1\n",
      "[notice] To update, run: python.exe -m pip install --upgrade pip\n"
     ]
    }
   ],
   "source": [
    "!pip install pingouin"
   ]
  },
  {
   "cell_type": "code",
   "execution_count": 20,
   "id": "93b20c05-f073-49c5-a811-f8ef1210dc2e",
   "metadata": {},
   "outputs": [
    {
     "name": "stdout",
     "output_type": "stream",
     "text": [
      "[0 0 0 1 1 1 2 2 2 3 3 3 4 4 4 5 5 5 6 6 6 7 7 7 8 8 8 9 9 9]\n",
      "['A' 'B' 'C' 'A' 'B' 'C' 'A' 'B' 'C' 'A' 'B' 'C' 'A' 'B' 'C' 'A' 'B' 'C'\n",
      " 'A' 'B' 'C' 'A' 'B' 'C' 'A' 'B' 'C' 'A' 'B' 'C']\n"
     ]
    }
   ],
   "source": [
    "print(np.repeat(np.arange(10), 3),)\n",
    "print(np.tile(['A', 'B', 'C'], 10))\n",
    "V= np.random.normal(loc=10, scale=3, size=30)"
   ]
  },
  {
   "cell_type": "code",
   "execution_count": 21,
   "id": "4ef38656-6d22-4721-8c12-563ae068df5d",
   "metadata": {},
   "outputs": [
    {
     "data": {
      "text/plain": [
       "3007.2019864556655"
      ]
     },
     "execution_count": 21,
     "metadata": {},
     "output_type": "execute_result"
    }
   ],
   "source": [
    "sum([x **2 for x in V])"
   ]
  },
  {
   "cell_type": "code",
   "execution_count": 22,
   "id": "52378848-491b-41fc-b7c9-1c4af1f116ab",
   "metadata": {},
   "outputs": [
    {
     "data": {
      "text/plain": [
       "array([ 7.98261866,  8.92134052,  7.56056115,  4.82115219, 10.53227843,\n",
       "        8.79465719,  5.10940496, 11.38834677,  7.27810491, 10.15583619,\n",
       "       12.18727169, 10.38694873, 13.41820205,  6.29552254, 11.20702492,\n",
       "        7.94556973,  7.38760855,  8.26345101,  9.0653424 , 10.16849603,\n",
       "        6.50455048, 12.70247946, 11.39698732,  5.39126894, 14.46475658,\n",
       "       15.68766753, 13.53633871,  9.46022549,  6.78774214, 13.16335518])"
      ]
     },
     "execution_count": 22,
     "metadata": {},
     "output_type": "execute_result"
    }
   ],
   "source": [
    "V"
   ]
  },
  {
   "cell_type": "code",
   "execution_count": 25,
   "id": "0a146944-0db1-4e7e-8917-6979dc086d31",
   "metadata": {},
   "outputs": [
    {
     "name": "stdout",
     "output_type": "stream",
     "text": [
      "5.956341546174783e-10\n"
     ]
    }
   ],
   "source": [
    "from scipy.stats import f\n",
    "\n",
    "# Define the F-statistic and degrees of freedom\n",
    "F = 86.333333\n",
    "dfn = 2  # Degrees of freedom for the numerator\n",
    "dfd = 18  # Degrees of freedom for the denominator\n",
    "\n",
    "# Calculate the p-value\n",
    "p_value = f.sf(F, dfn, dfd)\n",
    "print(p_value)"
   ]
  },
  {
   "cell_type": "code",
   "execution_count": null,
   "id": "804cb8f2-acc4-4854-ba19-56ea7e3781ca",
   "metadata": {},
   "outputs": [],
   "source": []
  }
 ],
 "metadata": {
  "kernelspec": {
   "display_name": "Python 3 (ipykernel)",
   "language": "python",
   "name": "python3"
  },
  "language_info": {
   "codemirror_mode": {
    "name": "ipython",
    "version": 3
   },
   "file_extension": ".py",
   "mimetype": "text/x-python",
   "name": "python",
   "nbconvert_exporter": "python",
   "pygments_lexer": "ipython3",
   "version": "3.9.0"
  }
 },
 "nbformat": 4,
 "nbformat_minor": 5
}
