{
 "cells": [
  {
   "cell_type": "code",
   "execution_count": 1,
   "id": "3a62efc5-71fe-4687-ab01-3a751b424001",
   "metadata": {},
   "outputs": [
    {
     "name": "stdout",
     "output_type": "stream",
     "text": [
      "Requirement already satisfied: seaborn in c:\\users\\test\\appdata\\local\\programs\\python\\python39\\lib\\site-packages (0.13.2)\n",
      "Requirement already satisfied: plotnine in c:\\users\\test\\appdata\\local\\programs\\python\\python39\\lib\\site-packages (0.13.6)\n",
      "Requirement already satisfied: matplotlib in c:\\users\\test\\appdata\\local\\programs\\python\\python39\\lib\\site-packages (3.9.2)\n",
      "Requirement already satisfied: pandas in c:\\users\\test\\appdata\\local\\programs\\python\\python39\\lib\\site-packages (2.2.2)\n",
      "Requirement already satisfied: numpy!=1.24.0,>=1.20 in c:\\users\\test\\appdata\\local\\programs\\python\\python39\\lib\\site-packages (from seaborn) (1.26.4)\n",
      "Requirement already satisfied: mizani~=0.11.0 in c:\\users\\test\\appdata\\local\\programs\\python\\python39\\lib\\site-packages (from plotnine) (0.11.4)\n",
      "Requirement already satisfied: scipy>=1.7.0 in c:\\users\\test\\appdata\\local\\programs\\python\\python39\\lib\\site-packages (from plotnine) (1.13.1)\n",
      "Requirement already satisfied: statsmodels>=0.14.0 in c:\\users\\test\\appdata\\local\\programs\\python\\python39\\lib\\site-packages (from plotnine) (0.14.2)\n",
      "Requirement already satisfied: contourpy>=1.0.1 in c:\\users\\test\\appdata\\local\\programs\\python\\python39\\lib\\site-packages (from matplotlib) (1.2.1)\n",
      "Requirement already satisfied: cycler>=0.10 in c:\\users\\test\\appdata\\local\\programs\\python\\python39\\lib\\site-packages (from matplotlib) (0.12.1)\n",
      "Requirement already satisfied: fonttools>=4.22.0 in c:\\users\\test\\appdata\\local\\programs\\python\\python39\\lib\\site-packages (from matplotlib) (4.53.0)\n",
      "Requirement already satisfied: kiwisolver>=1.3.1 in c:\\users\\test\\appdata\\local\\programs\\python\\python39\\lib\\site-packages (from matplotlib) (1.4.5)\n",
      "Requirement already satisfied: packaging>=20.0 in c:\\users\\test\\appdata\\local\\programs\\python\\python39\\lib\\site-packages (from matplotlib) (24.1)\n",
      "Requirement already satisfied: pillow>=8 in c:\\users\\test\\appdata\\local\\programs\\python\\python39\\lib\\site-packages (from matplotlib) (10.3.0)\n",
      "Requirement already satisfied: pyparsing>=2.3.1 in c:\\users\\test\\appdata\\local\\programs\\python\\python39\\lib\\site-packages (from matplotlib) (3.1.2)\n",
      "Requirement already satisfied: python-dateutil>=2.7 in c:\\users\\test\\appdata\\local\\programs\\python\\python39\\lib\\site-packages (from matplotlib) (2.9.0.post0)\n",
      "Requirement already satisfied: importlib-resources>=3.2.0 in c:\\users\\test\\appdata\\local\\programs\\python\\python39\\lib\\site-packages (from matplotlib) (6.4.0)\n",
      "Requirement already satisfied: pytz>=2020.1 in c:\\users\\test\\appdata\\local\\programs\\python\\python39\\lib\\site-packages (from pandas) (2024.1)\n",
      "Requirement already satisfied: tzdata>=2022.7 in c:\\users\\test\\appdata\\local\\programs\\python\\python39\\lib\\site-packages (from pandas) (2024.1)\n",
      "Requirement already satisfied: zipp>=3.1.0 in c:\\users\\test\\appdata\\local\\programs\\python\\python39\\lib\\site-packages (from importlib-resources>=3.2.0->matplotlib) (3.19.2)\n",
      "Requirement already satisfied: six>=1.5 in c:\\users\\test\\appdata\\local\\programs\\python\\python39\\lib\\site-packages (from python-dateutil>=2.7->matplotlib) (1.16.0)\n",
      "Requirement already satisfied: patsy>=0.5.6 in c:\\users\\test\\appdata\\local\\programs\\python\\python39\\lib\\site-packages (from statsmodels>=0.14.0->plotnine) (0.5.6)\n"
     ]
    },
    {
     "name": "stderr",
     "output_type": "stream",
     "text": [
      "\n",
      "[notice] A new release of pip is available: 24.2 -> 24.3.1\n",
      "[notice] To update, run: python.exe -m pip install --upgrade pip\n"
     ]
    }
   ],
   "source": [
    "!pip3 install seaborn plotnine matplotlib pandas "
   ]
  },
  {
   "cell_type": "code",
   "execution_count": 3,
   "id": "00db610b-ae33-44a5-b35b-8c99add9bebd",
   "metadata": {},
   "outputs": [
    {
     "ename": "TypeError",
     "evalue": "from_formula() missing 1 required positional argument: 'formula'",
     "output_type": "error",
     "traceback": [
      "\u001b[1;31m---------------------------------------------------------------------------\u001b[0m",
      "\u001b[1;31mTypeError\u001b[0m                                 Traceback (most recent call last)",
      "Cell \u001b[1;32mIn[3], line 11\u001b[0m\n\u001b[0;32m      9\u001b[0m df \u001b[38;5;241m=\u001b[39m pd\u001b[38;5;241m.\u001b[39mread_csv(\u001b[38;5;124m'\u001b[39m\u001b[38;5;124manova.csv\u001b[39m\u001b[38;5;124m'\u001b[39m)\n\u001b[0;32m     10\u001b[0m set_option(\u001b[38;5;124m'\u001b[39m\u001b[38;5;124mdisplay.max_rows\u001b[39m\u001b[38;5;124m'\u001b[39m, df\u001b[38;5;241m.\u001b[39mshape[\u001b[38;5;241m0\u001b[39m]\u001b[38;5;241m+\u001b[39m\u001b[38;5;241m1\u001b[39m)\n\u001b[1;32m---> 11\u001b[0m my_mod \u001b[38;5;241m=\u001b[39m \u001b[43mols\u001b[49m\u001b[43m(\u001b[49m\u001b[43mdata\u001b[49m\u001b[38;5;241;43m=\u001b[39;49m\u001b[43mdf\u001b[49m\u001b[43m)\u001b[49m\u001b[38;5;241m.\u001b[39mfit()\n\u001b[0;32m     12\u001b[0m aovtable \u001b[38;5;241m=\u001b[39m sm\u001b[38;5;241m.\u001b[39mstats\u001b[38;5;241m.\u001b[39manova_lm(mymod, typ \u001b[38;5;241m=\u001b[39m \u001b[38;5;241m2\u001b[39m)\n\u001b[0;32m     13\u001b[0m \u001b[38;5;28mprint\u001b[39m(aovtable)  \n",
      "\u001b[1;31mTypeError\u001b[0m: from_formula() missing 1 required positional argument: 'formula'"
     ]
    }
   ],
   "source": [
    "from pandas import set_option\n",
    "from scipy.stats import stats\n",
    "from statsmodels.formula.api import ols\n",
    "import statsmodels.api as sm\n",
    "import pandas as pd\n",
    "\n",
    "\n",
    "df = pd.read_csv('anova.csv')\n",
    "set_option('display.max_rows', df.shape[0]+1)\n",
    "my_mod = ols(data=df).fit()\n",
    "aovtable = sm.stats.anova_lm(mymod, typ = 2)\n",
    "print(aovtable)  \n",
    "\n",
    "# print([x**2 for x in df['15mg']])\n",
    "# sum(list(map(lambda x : x**2,df['15mg']+df['45mg'])))\n",
    "\n",
    "# df.15mg\n",
    "# stats.f_oneway(df['15mg'],df['30mg'],df['45mg'])"
   ]
  },
  {
   "cell_type": "code",
   "execution_count": 38,
   "id": "717b07cd-5507-4d65-836b-d2f21ec19f9e",
   "metadata": {},
   "outputs": [
    {
     "name": "stdout",
     "output_type": "stream",
     "text": [
      "            df     sum_sq    mean_sq          F        PR(>F)\n",
      "C(Dose)    2.0  98.666667  49.333333  86.333333  5.956341e-10\n",
      "Residual  18.0  10.285714   0.571429        NaN           NaN\n",
      "             sum_sq    df          F        PR(>F)\n",
      "C(Dose)   98.666667   2.0  86.333333  5.956341e-10\n",
      "Residual  10.285714  18.0        NaN           NaN\n"
     ]
    }
   ],
   "source": [
    "import pandas as pd\n",
    "import statsmodels.api as sm\n",
    "from statsmodels.formula.api import ols\n",
    "\n",
    "# Create a DataFrame with the data\n",
    "data = {\n",
    "    'Dose': ['15mg']*7 + ['30mg']*7 + ['45mg']*7,\n",
    "    'Response': [9, 8, 7, 8, 8, 9, 8, 7, 6, 6, 7, 8, 7, 6, 4, 3, 2, 3, 4, 3, 2]\n",
    "}\n",
    "\n",
    "df = pd.DataFrame(data)\n",
    "\n",
    "# Perform one-way ANOVA using ols and statsmodels\n",
    "# Response \n",
    "model = ols('Response ~ C(Dose)', data=df).fit()\n",
    "anova_results = sm.stats.anova_lm(model, typ=1)\n",
    "anova_result_1 = sm.stats.anova_lm(model, typ=2)\n",
    "\n",
    "print(anova_results)\n",
    "print(anova_result_1)\n"
   ]
  },
  {
   "cell_type": "code",
   "execution_count": 39,
   "id": "c67345cb-7a89-4eb9-9f9c-54fd90249bdd",
   "metadata": {},
   "outputs": [
    {
     "name": "stdout",
     "output_type": "stream",
     "text": [
      "5.956341546174783e-10\n"
     ]
    }
   ],
   "source": [
    "from scipy.stats import f\n",
    "\n",
    "# Define the F-statistic and degrees of freedom\n",
    "F = 86.333333\n",
    "dfn = 2  # Degrees of freedom for the numerator\n",
    "dfd = 18  # Degrees of freedom for the denominator\n",
    "\n",
    "# Calculate the p-value\n",
    "p_value = f.sf(F, dfn, dfd)\n",
    "print(p_value)\n"
   ]
  },
  {
   "cell_type": "code",
   "execution_count": 46,
   "id": "e6fc9990-19ba-487a-ae16-fca112a462c4",
   "metadata": {},
   "outputs": [
    {
     "name": "stdout",
     "output_type": "stream",
     "text": [
      "       Multiple Comparison of Means - Tukey HSD, FWER=0.05        \n",
      "==================================================================\n",
      "    group1        group2    meandiff p-adj   lower   upper  reject\n",
      "------------------------------------------------------------------\n",
      "       Canada        France   0.8589 0.7993 -1.0773  2.7951  False\n",
      "       Canada       Germany  -1.9808  0.018 -3.7478 -0.2138   True\n",
      "       Canada Great Britain  -1.0859 0.5327  -2.919  0.7472  False\n",
      "       Canada         Japan   0.8481 0.7366 -0.9108   2.607  False\n",
      "       Canada           USA  -2.8637 0.0001 -4.6226 -1.1048   True\n",
      "       France       Germany  -2.8397 0.0003 -4.7237 -0.9557   True\n",
      "       France Great Britain  -1.9448 0.0503 -3.8909  0.0013  False\n",
      "       France         Japan  -0.0108    1.0 -1.8872  1.8656  False\n",
      "       France           USA  -3.7226    0.0  -5.599 -1.8462   True\n",
      "      Germany Great Britain   0.8949 0.6995  -0.883  2.6729  False\n",
      "      Germany         Japan   2.8289    0.0  1.1276  4.5302   True\n",
      "      Germany           USA  -0.8829 0.6713 -2.5842  0.8184  False\n",
      "Great Britain         Japan    1.934 0.0231  0.1641  3.7038   True\n",
      "Great Britain           USA  -1.7778 0.0483 -3.5476 -0.0079   True\n",
      "        Japan           USA  -3.7118    0.0 -5.4046 -2.0189   True\n",
      "------------------------------------------------------------------\n"
     ]
    }
   ],
   "source": [
    "import seaborn as sbn\n",
    "sbn.get_dataset_names()\n",
    "healthexpec = sbn.load_dataset(\"healthexp\")\n",
    "from statsmodels.stats.multicomp import pairwise_tukeyhsd\n",
    "print(pairwise_tukeyhsd(healthexpec['Life_Expectancy'], healthexpec['Country']))"
   ]
  },
  {
   "cell_type": "code",
   "execution_count": 47,
   "id": "a6fc5119-6374-48ea-be30-0278f8c1fddb",
   "metadata": {},
   "outputs": [
    {
     "name": "stdout",
     "output_type": "stream",
     "text": [
      "T-statistic: -3.2786255884723627, P-value: 0.013512634109533926\n"
     ]
    }
   ],
   "source": [
    "from scipy import stats\n",
    "\n",
    "# Sample data\n",
    "sample_data = [2.3, 2.5, 3.1, 2.8, 2.9, 2.4, 2.7, 2.8]\n",
    "population_mean = 3.0\n",
    "\n",
    "# Perform t-test\n",
    "t_stat, p_value = stats.ttest_1samp(sample_data, population_mean)\n",
    "print(f\"T-statistic: {t_stat}, P-value: {p_value}\")\n"
   ]
  },
  {
   "cell_type": "code",
   "execution_count": null,
   "id": "923dc68b-d096-436b-9375-c0d68f3946e0",
   "metadata": {},
   "outputs": [],
   "source": []
  },
  {
   "cell_type": "code",
   "execution_count": null,
   "id": "52d6c763-ff04-4457-b8e2-bbeafcc5497d",
   "metadata": {},
   "outputs": [],
   "source": []
  }
 ],
 "metadata": {
  "kernelspec": {
   "display_name": "Python 3 (ipykernel)",
   "language": "python",
   "name": "python3"
  },
  "language_info": {
   "codemirror_mode": {
    "name": "ipython",
    "version": 3
   },
   "file_extension": ".py",
   "mimetype": "text/x-python",
   "name": "python",
   "nbconvert_exporter": "python",
   "pygments_lexer": "ipython3",
   "version": "3.9.0"
  }
 },
 "nbformat": 4,
 "nbformat_minor": 5
}
