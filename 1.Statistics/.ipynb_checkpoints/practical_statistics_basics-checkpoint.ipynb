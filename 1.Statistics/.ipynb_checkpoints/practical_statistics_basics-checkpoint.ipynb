{
 "cells": [
  {
   "cell_type": "markdown",
   "id": "6984821b-ea25-4929-9e72-f98a618e9443",
   "metadata": {},
   "source": [
    "## Measure of Central Tendency\n",
    "\n",
    "Measures of central tendency are statistical tools used to identify the center or typical value of a dataset. They summarize data by providing a single representative value, often referred to as the \"central\" value. The three main measures of central tendency are **mean**, **median**, and **mode**, each having specific applications.\n",
    "\n",
    "### 1. **Mean (Arithmetic Average)**\n",
    "   - **Definition**: The sum of all data points divided by the number of data points. It is commonly referred to as the average.\n",
    "   - **Formula**: \n",
    "     - For a population: $\\mu = \\frac{\\sum x_i}{N}$\n",
    "        \n",
    "     - For a sample:\n",
    "            $\\bar{x} = \\frac{\\sum x_i}{n}$\n",
    "    \n",
    "   - **Example**: For the dataset {4, 8, 15, 16, 23}, the mean is $ \\frac{4 + 8 + 15 + 16 + 23}{5} = 13.2 $.\n",
    "   \n",
    "   - **Application**:\n",
    "     - **General Use**: The mean is used when the dataset is symmetric without extreme outliers, as it gives a good central value.\n",
    "     - **Economics**: Average income, average expenditure.\n",
    "     - **Business**: Average sales figures, average production output.\n",
    "     - **Education**: Average test scores.\n",
    "\n",
    "### 2. **Median**\n",
    "   - **Definition**: The middle value in a dataset when it is ordered from lowest to highest. If there is an even number of observations, the median is the average of the two middle values.\n",
    "   - **Formula**:\n",
    "     - For an odd number of data points: The middle value.\n",
    "     - For an even number of data points: The average of the two middle values.\n",
    "   - **Example**: For the dataset {4, 8, 15, 16, 23}, the median is 15 (middle value).\n",
    "     For the dataset {1, 3, 5, 7}, the median is $ \\frac{3+5}{2} = 4 $.\n",
    "   \n",
    "   - **Application**:\n",
    "     - **Income Data**: Median household income is often used because it is less affected by extreme values (like a few very wealthy individuals).\n",
    "     - **Real Estate**: Median home prices, which give a better sense of the typical home price in a region than the mean, which could be skewed by extremely expensive homes.\n",
    "     - **Education**: Median grades or scores to represent typical student performance, especially when there are outliers.\n",
    "\n",
    "### 3. **Mode**\n",
    "   - **Definition**: The value(s) that appear most frequently in a dataset. There may be one mode (unimodal), more than one mode (bimodal or multimodal), or no mode at all if no value repeats.\n",
    "   - **Example**: For the dataset {4, 4, 8, 15, 16, 16, 23}, the modes are 4 and 16 (bimodal dataset).\n",
    "   \n",
    "   - **Application**:\n",
    "     - **Retail/Business**: Identifying the most commonly sold product or most frequent customer purchase.\n",
    "     - **Marketing**: Understanding the most common preferences among consumers, such as the most popular size or color of a product.\n",
    "     - **Health Care**: Determining the most common diagnosis or medical condition in a population.\n",
    "\n",
    "### 4. **Geometric Mean**\n",
    "   - **Definition**: The nth root of the product of n data points, used primarily for data involving rates of growth or percentages.\n",
    "   - **Formula**: $ \\text{Geometric Mean} = \\sqrt[n]{x_1 \\times x_2 \\times \\dots \\times x_n} $\n",
    "   - **Example**: For the dataset {4, 8, 16}, the geometric mean is $ \\sqrt[3]{4 \\times 8 \\times 16} = 8 $.\n",
    "   \n",
    "   - **Application**:\n",
    "     - **Finance**: Used to calculate average rates of return over time.\n",
    "     - **Growth Rates**: Computing average growth rates, such as in population studies or GDP growth.\n",
    "\n",
    "### 5. **Harmonic Mean**\n",
    "   - **Definition**: The reciprocal of the arithmetic mean of the reciprocals of the data points, often used for rates or ratios.\n",
    "   - **Formula**: $ \\text{Harmonic Mean} = \\frac{n}{\\sum \\frac{1}{x_i}} $\n",
    "   - **Example**: For the dataset {2, 4, 6}, the harmonic mean is $ \\frac{3}{\\frac{1}{2} + \\frac{1}{4} + \\frac{1}{6}} $.\n",
    "   \n",
    "   - **Application**:\n",
    "     - **Finance**: Used to calculate average rates in terms of speed, such as average interest rates or average travel speeds.\n",
    "     - **Physics**: Used in calculations involving rates, such as velocity.\n",
    "\n",
    "### Summary of Applications\n",
    "- **Mean**: Best used for normally distributed data without significant outliers.\n",
    "- **Median**: Preferred when dealing with skewed data or outliers.\n",
    "- **Mode**: Useful for categorical data and identifying the most common value.\n",
    "- **Geometric Mean**: Best for multiplicative processes, growth rates, or percentages.\n",
    "- **Harmonic Mean**: Ideal for averaging rates, particularly when data involves fractions or ratios.\n"
   ]
  },
  {
   "cell_type": "code",
   "execution_count": 1,
   "id": "45e5cd0c-a585-49b0-b10d-af7571855514",
   "metadata": {},
   "outputs": [
    {
     "name": "stdout",
     "output_type": "stream",
     "text": [
      "<class 'pandas.core.frame.DataFrame'>\n",
      "RangeIndex: 48842 entries, 0 to 48841\n",
      "Data columns (total 15 columns):\n",
      " #   Column           Non-Null Count  Dtype \n",
      "---  ------           --------------  ----- \n",
      " 0   age              48842 non-null  int64 \n",
      " 1   workclass        48842 non-null  object\n",
      " 2   fnlwgt           48842 non-null  int64 \n",
      " 3   education        48842 non-null  object\n",
      " 4   educational-num  48842 non-null  int64 \n",
      " 5   marital-status   48842 non-null  object\n",
      " 6   occupation       48842 non-null  object\n",
      " 7   relationship     48842 non-null  object\n",
      " 8   race             48842 non-null  object\n",
      " 9   gender           48842 non-null  object\n",
      " 10  capital-gain     48842 non-null  int64 \n",
      " 11  capital-loss     48842 non-null  int64 \n",
      " 12  hours-per-week   48842 non-null  int64 \n",
      " 13  native-country   48842 non-null  object\n",
      " 14  income           48842 non-null  object\n",
      "dtypes: int64(6), object(9)\n",
      "memory usage: 5.6+ MB\n"
     ]
    },
    {
     "data": {
      "text/html": [
       "<div>\n",
       "<style scoped>\n",
       "    .dataframe tbody tr th:only-of-type {\n",
       "        vertical-align: middle;\n",
       "    }\n",
       "\n",
       "    .dataframe tbody tr th {\n",
       "        vertical-align: top;\n",
       "    }\n",
       "\n",
       "    .dataframe thead th {\n",
       "        text-align: right;\n",
       "    }\n",
       "</style>\n",
       "<table border=\"1\" class=\"dataframe\">\n",
       "  <thead>\n",
       "    <tr style=\"text-align: right;\">\n",
       "      <th></th>\n",
       "      <th>age</th>\n",
       "      <th>workclass</th>\n",
       "      <th>fnlwgt</th>\n",
       "      <th>education</th>\n",
       "      <th>educational-num</th>\n",
       "      <th>marital-status</th>\n",
       "      <th>occupation</th>\n",
       "      <th>relationship</th>\n",
       "      <th>race</th>\n",
       "      <th>gender</th>\n",
       "      <th>capital-gain</th>\n",
       "      <th>capital-loss</th>\n",
       "      <th>hours-per-week</th>\n",
       "      <th>native-country</th>\n",
       "      <th>income</th>\n",
       "    </tr>\n",
       "  </thead>\n",
       "  <tbody>\n",
       "    <tr>\n",
       "      <th>0</th>\n",
       "      <td>25</td>\n",
       "      <td>Private</td>\n",
       "      <td>226802</td>\n",
       "      <td>11th</td>\n",
       "      <td>7</td>\n",
       "      <td>Never-married</td>\n",
       "      <td>Machine-op-inspct</td>\n",
       "      <td>Own-child</td>\n",
       "      <td>Black</td>\n",
       "      <td>Male</td>\n",
       "      <td>0</td>\n",
       "      <td>0</td>\n",
       "      <td>40</td>\n",
       "      <td>United-States</td>\n",
       "      <td>&lt;=50K</td>\n",
       "    </tr>\n",
       "    <tr>\n",
       "      <th>1</th>\n",
       "      <td>38</td>\n",
       "      <td>Private</td>\n",
       "      <td>89814</td>\n",
       "      <td>HS-grad</td>\n",
       "      <td>9</td>\n",
       "      <td>Married-civ-spouse</td>\n",
       "      <td>Farming-fishing</td>\n",
       "      <td>Husband</td>\n",
       "      <td>White</td>\n",
       "      <td>Male</td>\n",
       "      <td>0</td>\n",
       "      <td>0</td>\n",
       "      <td>50</td>\n",
       "      <td>United-States</td>\n",
       "      <td>&lt;=50K</td>\n",
       "    </tr>\n",
       "    <tr>\n",
       "      <th>2</th>\n",
       "      <td>28</td>\n",
       "      <td>Local-gov</td>\n",
       "      <td>336951</td>\n",
       "      <td>Assoc-acdm</td>\n",
       "      <td>12</td>\n",
       "      <td>Married-civ-spouse</td>\n",
       "      <td>Protective-serv</td>\n",
       "      <td>Husband</td>\n",
       "      <td>White</td>\n",
       "      <td>Male</td>\n",
       "      <td>0</td>\n",
       "      <td>0</td>\n",
       "      <td>40</td>\n",
       "      <td>United-States</td>\n",
       "      <td>&gt;50K</td>\n",
       "    </tr>\n",
       "    <tr>\n",
       "      <th>3</th>\n",
       "      <td>44</td>\n",
       "      <td>Private</td>\n",
       "      <td>160323</td>\n",
       "      <td>Some-college</td>\n",
       "      <td>10</td>\n",
       "      <td>Married-civ-spouse</td>\n",
       "      <td>Machine-op-inspct</td>\n",
       "      <td>Husband</td>\n",
       "      <td>Black</td>\n",
       "      <td>Male</td>\n",
       "      <td>7688</td>\n",
       "      <td>0</td>\n",
       "      <td>40</td>\n",
       "      <td>United-States</td>\n",
       "      <td>&gt;50K</td>\n",
       "    </tr>\n",
       "    <tr>\n",
       "      <th>4</th>\n",
       "      <td>18</td>\n",
       "      <td>?</td>\n",
       "      <td>103497</td>\n",
       "      <td>Some-college</td>\n",
       "      <td>10</td>\n",
       "      <td>Never-married</td>\n",
       "      <td>?</td>\n",
       "      <td>Own-child</td>\n",
       "      <td>White</td>\n",
       "      <td>Female</td>\n",
       "      <td>0</td>\n",
       "      <td>0</td>\n",
       "      <td>30</td>\n",
       "      <td>United-States</td>\n",
       "      <td>&lt;=50K</td>\n",
       "    </tr>\n",
       "  </tbody>\n",
       "</table>\n",
       "</div>"
      ],
      "text/plain": [
       "   age  workclass  fnlwgt     education  educational-num      marital-status  \\\n",
       "0   25    Private  226802          11th                7       Never-married   \n",
       "1   38    Private   89814       HS-grad                9  Married-civ-spouse   \n",
       "2   28  Local-gov  336951    Assoc-acdm               12  Married-civ-spouse   \n",
       "3   44    Private  160323  Some-college               10  Married-civ-spouse   \n",
       "4   18          ?  103497  Some-college               10       Never-married   \n",
       "\n",
       "          occupation relationship   race  gender  capital-gain  capital-loss  \\\n",
       "0  Machine-op-inspct    Own-child  Black    Male             0             0   \n",
       "1    Farming-fishing      Husband  White    Male             0             0   \n",
       "2    Protective-serv      Husband  White    Male             0             0   \n",
       "3  Machine-op-inspct      Husband  Black    Male          7688             0   \n",
       "4                  ?    Own-child  White  Female             0             0   \n",
       "\n",
       "   hours-per-week native-country income  \n",
       "0              40  United-States  <=50K  \n",
       "1              50  United-States  <=50K  \n",
       "2              40  United-States   >50K  \n",
       "3              40  United-States   >50K  \n",
       "4              30  United-States  <=50K  "
      ]
     },
     "execution_count": 1,
     "metadata": {},
     "output_type": "execute_result"
    }
   ],
   "source": [
    "from scipy import stats\n",
    "import pandas as pd\n",
    "import os, sys\n",
    "# print(sys.path)\n",
    "path = r'C:\\Users\\TEST\\OneDrive\\Documents\\GitHub\\data_science_tutorial\\datasets'\n",
    "df = pd.read_csv(path + \"\\\\adult.csv\")\n",
    "df.info()\n",
    "df.head()\n"
   ]
  },
  {
   "cell_type": "code",
   "execution_count": 1,
   "id": "f3c24dca-c101-4a8c-a0dd-4c747c147b59",
   "metadata": {},
   "outputs": [
    {
     "name": "stdout",
     "output_type": "stream",
     "text": [
      "Requirement already satisfied: seaborn in c:\\users\\test\\appdata\\local\\programs\\python\\python39\\lib\\site-packages (0.13.2)\n",
      "Requirement already satisfied: scipy in c:\\users\\test\\appdata\\local\\programs\\python\\python39\\lib\\site-packages (1.13.1)\n",
      "Requirement already satisfied: statistics in c:\\users\\test\\appdata\\local\\programs\\python\\python39\\lib\\site-packages (1.0.3.5)\n",
      "Requirement already satisfied: matplotlib in c:\\users\\test\\appdata\\local\\programs\\python\\python39\\lib\\site-packages (3.9.2)\n",
      "Collecting matplotlib-inline\n",
      "  Using cached matplotlib_inline-0.1.7-py3-none-any.whl.metadata (3.9 kB)\n",
      "Requirement already satisfied: numpy!=1.24.0,>=1.20 in c:\\users\\test\\appdata\\local\\programs\\python\\python39\\lib\\site-packages (from seaborn) (1.26.4)\n",
      "Requirement already satisfied: pandas>=1.2 in c:\\users\\test\\appdata\\local\\programs\\python\\python39\\lib\\site-packages (from seaborn) (2.2.2)\n",
      "Requirement already satisfied: docutils>=0.3 in c:\\users\\test\\appdata\\local\\programs\\python\\python39\\lib\\site-packages (from statistics) (0.21.2)\n",
      "Requirement already satisfied: contourpy>=1.0.1 in c:\\users\\test\\appdata\\local\\programs\\python\\python39\\lib\\site-packages (from matplotlib) (1.2.1)\n",
      "Requirement already satisfied: cycler>=0.10 in c:\\users\\test\\appdata\\local\\programs\\python\\python39\\lib\\site-packages (from matplotlib) (0.12.1)\n",
      "Requirement already satisfied: fonttools>=4.22.0 in c:\\users\\test\\appdata\\local\\programs\\python\\python39\\lib\\site-packages (from matplotlib) (4.53.0)\n",
      "Requirement already satisfied: kiwisolver>=1.3.1 in c:\\users\\test\\appdata\\local\\programs\\python\\python39\\lib\\site-packages (from matplotlib) (1.4.5)\n",
      "Requirement already satisfied: packaging>=20.0 in c:\\users\\test\\appdata\\local\\programs\\python\\python39\\lib\\site-packages (from matplotlib) (24.1)\n",
      "Requirement already satisfied: pillow>=8 in c:\\users\\test\\appdata\\local\\programs\\python\\python39\\lib\\site-packages (from matplotlib) (10.3.0)\n",
      "Requirement already satisfied: pyparsing>=2.3.1 in c:\\users\\test\\appdata\\local\\programs\\python\\python39\\lib\\site-packages (from matplotlib) (3.1.2)\n",
      "Requirement already satisfied: python-dateutil>=2.7 in c:\\users\\test\\appdata\\local\\programs\\python\\python39\\lib\\site-packages (from matplotlib) (2.9.0.post0)\n",
      "Requirement already satisfied: importlib-resources>=3.2.0 in c:\\users\\test\\appdata\\local\\programs\\python\\python39\\lib\\site-packages (from matplotlib) (6.4.0)\n",
      "Requirement already satisfied: traitlets in c:\\users\\test\\appdata\\local\\programs\\python\\python39\\lib\\site-packages (from matplotlib-inline) (5.14.3)\n",
      "Requirement already satisfied: zipp>=3.1.0 in c:\\users\\test\\appdata\\local\\programs\\python\\python39\\lib\\site-packages (from importlib-resources>=3.2.0->matplotlib) (3.19.2)\n",
      "Requirement already satisfied: pytz>=2020.1 in c:\\users\\test\\appdata\\local\\programs\\python\\python39\\lib\\site-packages (from pandas>=1.2->seaborn) (2024.1)\n",
      "Requirement already satisfied: tzdata>=2022.7 in c:\\users\\test\\appdata\\local\\programs\\python\\python39\\lib\\site-packages (from pandas>=1.2->seaborn) (2024.1)\n",
      "Requirement already satisfied: six>=1.5 in c:\\users\\test\\appdata\\local\\programs\\python\\python39\\lib\\site-packages (from python-dateutil>=2.7->matplotlib) (1.16.0)\n",
      "Using cached matplotlib_inline-0.1.7-py3-none-any.whl (9.9 kB)\n",
      "Installing collected packages: matplotlib-inline\n",
      "Successfully installed matplotlib-inline-0.1.7\n"
     ]
    },
    {
     "name": "stderr",
     "output_type": "stream",
     "text": [
      "ERROR: pip's dependency resolver does not currently take into account all the packages that are installed. This behaviour is the source of the following dependency conflicts.\n",
      "jupyterlab 4.2.2 requires httpx>=0.25.0, but you have httpx 0.13.3 which is incompatible.\n"
     ]
    }
   ],
   "source": [
    "!pip install seaborn scipy statistics matplotlib matplotlib-inline"
   ]
  },
  {
   "cell_type": "code",
   "execution_count": 2,
   "id": "6beee6e6-21c6-428c-92c9-36bf07333762",
   "metadata": {},
   "outputs": [
    {
     "name": "stdout",
     "output_type": "stream",
     "text": [
      "Mean :  5.843333333333334\n",
      "H Mean :  5.728905057850834\n",
      "G Mean :  5.785720390427728\n",
      "Median :  5.8\n",
      "Mode :  5.0\n"
     ]
    }
   ],
   "source": [
    "import seaborn as sbn\n",
    "import statistics as stats\n",
    "import pandas as pd\n",
    "import numpy as np\n",
    "\n",
    "# np.linspace(0, 2, 10)\n",
    "\n",
    "\n",
    "df = sbn.load_dataset('iris')\n",
    "df.head()\n",
    "\n",
    "# Measure of variance\n",
    "print(\"Mean : \",np.mean(df['sepal_length']))\n",
    "print(\"H Mean : \",stats.harmonic_mean(df['sepal_length']))\n",
    "print(\"G Mean : \",stats.geometric_mean(df['sepal_length']))\n",
    "\n",
    "print(\"Median : \",np.median(df['sepal_length']))\n",
    "print(\"Mode : \",stats.mode(df['sepal_length']))\n",
    "\n",
    "\n",
    "\n"
   ]
  },
  {
   "cell_type": "markdown",
   "id": "712f3106-36d8-483a-be71-a7b189761e23",
   "metadata": {},
   "source": [
    "## Measure of Dispersion\n",
    "\n",
    "Measures of dispersion quantify the spread or variability of a dataset. Understanding these measures helps in analyzing the consistency and variability within the data. Here are the main measures of dispersion, their applications, and how changes in the data impact them:\n",
    "\n",
    "### 1. **Range**\n",
    "   - **Definition**: The difference between the maximum and minimum values in a dataset.\n",
    "   - **Formula**: Range = Max value - Min value\n",
    "   - **Application**:\n",
    "     - **Weather Data**: Range of temperatures in a city over a month.\n",
    "     - **Finance**: Range of stock prices over a period.\n",
    "   - **Impact of Changes**:\n",
    "     - **Increasing Data**: Adding higher values increases the range.\n",
    "     - **Decreasing Data**: Adding lower values decreases the range.\n",
    "\n",
    "### 2. **Variance**\n",
    "   - **Definition**: The average of the squared differences between each data point and the mean.\n",
    "   - **Formula**:\n",
    "     - Population variance: $$ \\sigma^2 = \\frac{\\sum (x_i - \\mu)^2}{N} $$\n",
    "     - Sample variance: $$ s^2 = \\frac{\\sum (x_i - \\bar{x})^2}{n-1} $$\n",
    "   - **Application**:\n",
    "     - **Finance**: Measure of investment risk (volatility).\n",
    "     - **Quality Control**: Variance in product measurements.\n",
    "   - **Impact of Changes**:\n",
    "     - **Increasing Data**: Variance increases if the new data points are far from the mean.\n",
    "     - **Decreasing Data**: Variance decreases if new data points are closer to the mean or less dispersed.\n",
    "\n",
    "### 3. **Standard Deviation**\n",
    "   - **Definition**: The square root of the variance, providing a measure of spread in the same units as the data.\n",
    "   - **Formula**:\n",
    "     - Population standard deviation: $$ \\sigma = \\sqrt{\\frac{\\sum (x_i - \\mu)^2}{N}} $$\n",
    "     - Sample standard deviation: $$ s = \\sqrt{\\frac{\\sum (x_i - \\bar{x})^2}{n-1}} $$\n",
    "   - **Application**:\n",
    "     - **Education**: Standard deviation of test scores to understand performance variation.\n",
    "     - **Finance**: Volatility of asset returns.\n",
    "   - **Impact of Changes**:\n",
    "     - **Increasing Data**: Standard deviation increases if new data points are more spread out from the mean.\n",
    "     - **Decreasing Data**: Standard deviation decreases if data points are more closely clustered around the mean.\n",
    "\n",
    "### 4. **Interquartile Range (IQR)**\n",
    "   - **Definition**: The difference between the third quartile (Q3) and the first quartile (Q1), representing the range within which the middle 50% of the data lies.\n",
    "   - **Formula**: IQR = Q3 - Q1\n",
    "   - **Application**:\n",
    "     - **Outlier Detection**: Identifying outliers using IQR-based methods.\n",
    "     - **Data Distribution**: Understanding the spread of the central portion of the data.\n",
    "   - **Impact of Changes**:\n",
    "     - **Increasing Data**: IQR increases if the new data points affect Q1 or Q3 significantly.\n",
    "     - **Decreasing Data**: IQR decreases if the central 50% of the data becomes narrower.\n",
    "\n",
    "### 5. **Mean Absolute Deviation (MAD)**\n",
    "   - **Definition**: The average of the absolute differences between each data point and the mean.\n",
    "   - **Formula**: $$ MAD = \\frac{\\sum |x_i - \\bar{x}|}{n} $$\n",
    "   - **Application**:\n",
    "     - **Finance**: Assessing the average deviation in financial data.\n",
    "     - **Operations**: Evaluating consistency in production processes.\n",
    "   - **Impact of Changes**:\n",
    "     - **Increasing Data**: MAD increases if new data points are further from the mean.\n",
    "     - **Decreasing Data**: MAD decreases if data points are closer to the mean.\n",
    "\n",
    "### 6. **Coefficient of Variation (CV)**\n",
    "   - **Definition**: A standardized measure of dispersion relative to the mean, expressed as a percentage.\n",
    "   - **Formula**: $$ CV = \\frac{\\sigma}{\\bar{x}} \\times 100 $$\n",
    "   - **Application**:\n",
    "     - **Comparing Variability**: Comparing variability between datasets with different units or means.\n",
    "     - **Risk Assessment**: Assessing relative risk in finance.\n",
    "   - **Impact of Changes**:\n",
    "     - **Increasing Data**: CV increases if the standard deviation increases relative to the mean.\n",
    "     - **Decreasing Data**: CV decreases if the mean increases relative to the standard deviation.\n",
    "\n",
    "### Summary of Impacts:\n",
    "- **Range**: Directly affected by extreme values at the ends of the dataset.\n",
    "- **Variance and Standard Deviation**: Affected by the overall spread of the data points around the mean; more spread increases these values.\n",
    "- **Interquartile Range (IQR)**: Less sensitive to extreme values and focuses on the middle spread of data.\n",
    "- **Mean Absolute Deviation (MAD)**: Provides a simple average of absolute deviations and is less influenced by extreme values compared to variance and standard deviation.\n",
    "- **Coefficient of Variation (CV)**: Useful for comparing relative variability, especially when means differ significantly.\n",
    "\n",
    "Each measure of dispersion provides a different perspective on the variability in a dataset, and their changes can reflect different aspects of data distribution and spread."
   ]
  },
  {
   "cell_type": "markdown",
   "id": "94448368-f1eb-432d-b676-c56c07070356",
   "metadata": {},
   "source": [
    "## Measure of Dispersion\n",
    "\n",
    "Measures of dispersion quantify the spread or variability of a dataset. Understanding these measures helps in analyzing the consistency and variability within the data. Here are the main measures of dispersion, their applications, and how changes in the data impact them:\n",
    "\n",
    "### 1. **Range**\n",
    "   - **Definition**: The difference between the maximum and minimum values in a dataset.\n",
    "   - **Formula**: Range = Max value - Min value\n",
    "   - **Application**:\n",
    "     - **Weather Data**: Range of temperatures in a city over a month.\n",
    "     - **Finance**: Range of stock prices over a period.\n",
    "   - **Impact of Changes**:\n",
    "     - **Increasing Data**: Adding higher values increases the range.\n",
    "     - **Decreasing Data**: Adding lower values decreases the range.\n",
    "\n",
    "### 2. **Variance**\n",
    "   - **Definition**: The average of the squared differences between each data point and the mean.\n",
    "   - **Formula**:\n",
    "     - Population variance: $$ \\sigma^2 = \\frac{\\sum (x_i - \\mu)^2}{N} $$\n",
    "     - Sample variance: $$ s^2 = \\frac{\\sum (x_i - \\bar{x})^2}{n-1} $$\n",
    "   - **Application**:\n",
    "     - **Finance**: Measure of investment risk (volatility).\n",
    "     - **Quality Control**: Variance in product measurements.\n",
    "   - **Impact of Changes**:\n",
    "     - **Increasing Data**: Variance increases if the new data points are far from the mean.\n",
    "     - **Decreasing Data**: Variance decreases if new data points are closer to the mean or less dispersed.\n",
    "\n",
    "### 3. **Standard Deviation**\n",
    "   - **Definition**: The square root of the variance, providing a measure of spread in the same units as the data.\n",
    "   - **Formula**:\n",
    "     - Population standard deviation: $$ \\sigma = \\sqrt{\\frac{\\sum (x_i - \\mu)^2}{N}} $$\n",
    "     - Sample standard deviation: $$ s = \\sqrt{\\frac{\\sum (x_i - \\bar{x})^2}{n-1}} $$\n",
    "   - **Application**:\n",
    "     - **Education**: Standard deviation of test scores to understand performance variation.\n",
    "     - **Finance**: Volatility of asset returns.\n",
    "   - **Impact of Changes**:\n",
    "     - **Increasing Data**: Standard deviation increases if new data points are more spread out from the mean.\n",
    "     - **Decreasing Data**: Standard deviation decreases if data points are more closely clustered around the mean.\n",
    "\n",
    "### 4. **Interquartile Range (IQR)**\n",
    "   - **Definition**: The difference between the third quartile (Q3) and the first quartile (Q1), representing the range within which the middle 50% of the data lies.\n",
    "   - **Formula**: IQR = Q3 - Q1\n",
    "   - **Application**:\n",
    "     - **Outlier Detection**: Identifying outliers using IQR-based methods.\n",
    "     - **Data Distribution**: Understanding the spread of the central portion of the data.\n",
    "   - **Impact of Changes**:\n",
    "     - **Increasing Data**: IQR increases if the new data points affect Q1 or Q3 significantly.\n",
    "     - **Decreasing Data**: IQR decreases if the central 50% of the data becomes narrower.\n",
    "\n",
    "### 5. **Mean Absolute Deviation (MAD)**\n",
    "   - **Definition**: The average of the absolute differences between each data point and the mean.\n",
    "   - **Formula**: $$ MAD = \\frac{\\sum |x_i - \\bar{x}|}{n} $$\n",
    "   - **Application**:\n",
    "     - **Finance**: Assessing the average deviation in financial data.\n",
    "     - **Operations**: Evaluating consistency in production processes.\n",
    "   - **Impact of Changes**:\n",
    "     - **Increasing Data**: MAD increases if new data points are further from the mean.\n",
    "     - **Decreasing Data**: MAD decreases if data points are closer to the mean.\n",
    "\n",
    "### 6. **Coefficient of Variation (CV)**\n",
    "   - **Definition**: A standardized measure of dispersion relative to the mean, expressed as a percentage.\n",
    "   - **Formula**: $$ CV = \\frac{\\sigma}{\\bar{x}} \\times 100 $$\n",
    "   - **Application**:\n",
    "     - **Comparing Variability**: Comparing variability between datasets with different units or means.\n",
    "     - **Risk Assessment**: Assessing relative risk in finance.\n",
    "   - **Impact of Changes**:\n",
    "     - **Increasing Data**: CV increases if the standard deviation increases relative to the mean.\n",
    "     - **Decreasing Data**: CV decreases if the mean increases relative to the standard deviation.\n",
    "\n",
    "### Summary of Impacts:\n",
    "- **Range**: Directly affected by extreme values at the ends of the dataset.\n",
    "- **Variance and Standard Deviation**: Affected by the overall spread of the data points around the mean; more spread increases these values.\n",
    "- **Interquartile Range (IQR)**: Less sensitive to extreme values and focuses on the middle spread of data.\n",
    "- **Mean Absolute Deviation (MAD)**: Provides a simple average of absolute deviations and is less influenced by extreme values compared to variance and standard deviation.\n",
    "- **Coefficient of Variation (CV)**: Useful for comparing relative variability, especially when means differ significantly.\n",
    "\n",
    "Each measure of dispersion provides a different perspective on the variability in a dataset, and their changes can reflect different aspects of data distribution and spread."
   ]
  },
  {
   "cell_type": "code",
   "execution_count": 4,
   "id": "a7f6fbf2-5b36-4d22-8a28-e707de7f7c6f",
   "metadata": {},
   "outputs": [
    {
     "name": "stdout",
     "output_type": "stream",
     "text": [
      "STD :  0.8253012917851409\n",
      "Variance :  0.6856935123042506\n",
      "Range :  3.6000000000000005\n",
      "Mean Absolute Deviation :  14.910034602076125\n",
      "Co efiicient Variation :  124.53586671624137\n"
     ]
    },
    {
     "data": {
      "text/plain": [
       "<Axes: >"
      ]
     },
     "execution_count": 4,
     "metadata": {},
     "output_type": "execute_result"
    },
    {
     "data": {
      "image/png": "[encoded data removed]",
      "text/plain": [
       "<Figure size 640x480 with 1 Axes>"
      ]
     },
     "metadata": {},
     "output_type": "display_data"
    }
   ],
   "source": [
    "# Practical for Measure of dispersion\n",
    "\n",
    "import seaborn as sbn\n",
    "import matplotlib.pyplot as plot\n",
    "from scipy.stats import norm\n",
    "import numpy as np\n",
    "\n",
    "df = sbn.load_dataset(\"iris\")\n",
    "\n",
    "# Measure of Dispersion : Indicates the scattering of data\n",
    "print(\"STD : \",np.std(df['sepal_length'])) # STD is a statistical measurement that looks at how far a group of numbers is from the mean\n",
    "print(\"Variance : \",stats.variance(df['sepal_length']))\n",
    "print(\"Range : \",max(df['sepal_length']) - min(df['sepal_length']))\n",
    "\n",
    "\n",
    "\n",
    "# how to detect outliers\n",
    "\n",
    "import numpy as np\n",
    "import pandas as pd\n",
    "\n",
    "# Sample data\n",
    "# data = [10, 12, 14, 15, 16, 17, 18, 20, 21, 22, 23, 24, 25, 100]\n",
    "data = [11,10,12,14,12,15,14,13,15,102,12,14,17,19,107, 10,13,12,14,12,108,12,11,14,13,15,10,15,12,10,14,13,15,10]\n",
    "\n",
    "# data = [11,10,12,14,12,15,14,13,15,12,14,17,19, 10,13,12,14,12,12,11,14,13,15,10,15,12,10,14,13,15,10]\n",
    "# Convert data to a pandas Series for convenience\n",
    "series = pd.Series(data)\n",
    "mean = np.mean(data)\n",
    "\n",
    "abs_data = np.abs(data-mean)\n",
    "\n",
    "print(\"Mean Absolute Deviation : \",np.mean(abs_data))\n",
    "print(\"Co efiicient Variation : \",(np.std(data)/np.mean(data)) * 100)\n",
    "\n",
    "# sbn.boxenplot(data)\n",
    "sbn.boxplot(data)\n",
    "\n",
    "# sbn.histplot(data)\n",
    "\n",
    "\n",
    "# # Calculate five-number summary\n",
    "# minimum = series.min()\n",
    "# # q1 = series.quantile(0.25)\n",
    "# median = series.median()\n",
    "# # q3 = series.quantile(0.75)\n",
    "# maximum = series.max()\n",
    "# q1,q3 = np.percentile(data,[25,75])\n",
    "# # Calculate IQR\n",
    "# iqr = q3 - q1\n",
    "\n",
    "# # Determine bounds for outliers\n",
    "# lower_bound = q1 - 1.5 * iqr\n",
    "# upper_bound = q3 + 1.5 * iqr\n",
    "\n",
    "# # Identify outliers\n",
    "# outliers = series[(series < lower_bound) | (series > upper_bound)]\n",
    "\n",
    "# # Print results\n",
    "# print(\"Five-number summary:\")\n",
    "# print(f\"Minimum: {minimum}\")\n",
    "# print(f\"Q1 (25th percentile): {q1}\")\n",
    "# print(f\"Median (50th percentile): {median}\")\n",
    "# print(f\"Q3 (75th percentile): {q3}\")\n",
    "# print(f\"Maximum: {maximum}\")\n",
    "\n",
    "# print(\"\\nIQR and bounds:\")\n",
    "# print(f\"IQR: {iqr}\")\n",
    "# print(f\"Lower Bound: {lower_bound}\")\n",
    "# print(f\"Upper Bound: {upper_bound}\")\n",
    "\n",
    "# print(\"\\nOutliers:\")\n",
    "# print(outliers.tolist())\n",
    "\n",
    "\n",
    "# # sbn.histplot(df['sepal_length'],kde=True) # Non guassian\n",
    "# # sbn.histplot(df['sepal_width'],kde=True) # This is  guassian distribution\n",
    "# # pdf = norm.pdf()\n",
    "# # df.info()\n",
    "# # x = np.linspace(-4,4,10)\n",
    "# # plot.plot(x,pdf)\n",
    "# # # sbnn.ki distribution"
   ]
  },
  {
   "cell_type": "code",
   "execution_count": 5,
   "id": "33a691f3-1ca6-4a32-96c7-1821a6ef3040",
   "metadata": {},
   "outputs": [
    {
     "name": "stdout",
     "output_type": "stream",
     "text": [
      "5.843333333333334\n",
      "0.8253012917851409\n",
      "0.050018260108190216\n"
     ]
    },
    {
     "data": {
      "text/plain": [
       "[<matplotlib.lines.Line2D at 0x1e42be8e970>]"
      ]
     },
     "execution_count": 5,
     "metadata": {},
     "output_type": "execute_result"
    },
    {
     "data": {
      "image/png": "[encoded data removed]",
      "text/plain": [
       "<Figure size 640x480 with 1 Axes>"
      ]
     },
     "metadata": {},
     "output_type": "display_data"
    }
   ],
   "source": [
    "#Guassian Distribution\n",
    "import matplotlib.pyplot as plot\n",
    "\n",
    "%matplotlib inline\n",
    "data = df['sepal_length']\n",
    "std_dev = np.std(data)\n",
    "mean = np.mean(data)\n",
    "print(mean)\n",
    "print(std_dev)\n",
    "import inspect\n",
    "# PDF Probability Density Function : to smoothnening of histogram\n",
    "x = np.linspace(mean - 3*std_dev, mean + 3*std_dev, 100)\n",
    "print(x[1] - x[0])\n",
    "\n",
    "\n",
    "gaussian_pdf = (1 / (std_dev * np.sqrt(2 * np.pi))) * np.exp(-0.5 * ((x - mean) / std_dev) ** 2)\n",
    "\n",
    "# plot.plot(x, gaussian_pdf)\n",
    "\n",
    "# signature = inspect.signature(plot.plot)\n",
    "# print(signature.parameters)\n",
    "# plot.plot(x, gaussian_pdf, marker='o', markersize=8)\n",
    "\n",
    "\n",
    "# plot.hist(df['sepal_length'])\n",
    "# sbn.kdeplot(df['sepal_length'])\n",
    "# plot.figure(figsize=(10, 6))\n",
    "# sbn.histplot(df['sepal_length'], kde=True) # The KDE is a smoothed version of the histogram and gives an estimate of the probability density function of the variable\n",
    "# plot.hist(data, alpha=1, color='g', label='Data Histogram')\n",
    "plot.plot(x, gaussian_pdf, label=\"Normal Distribution PDF\", color='blue')\n",
    "# plot.boxplot(data)\n",
    "\n",
    "\n",
    "\n",
    "\n"
   ]
  },
  {
   "cell_type": "markdown",
   "id": "8bb7eaf0-ea7f-453d-8c9d-33dedb498153",
   "metadata": {},
   "source": [
    "## Graphical Explanation:\n",
    "\n",
    "**X-axis:** Represents the possible values of the random variable (e.g., height, weight, temperature).\n",
    "\n",
    "**Y-axis:** Represents the probability density. Higher values indicate that the corresponding x-values are more likely.\n",
    "\n",
    "**Area under the curve:** Represents probability. The total area under the entire PDF is 1, while the shaded area between -1 and 1 represents the probability that the random variable falls between those values (which is about 68% for a standard normal distribution).\n",
    "\n",
    "## Note:\n",
    "- PDF is only for continous variable , since that probability of single variable is zero\n"
   ]
  },
  {
   "cell_type": "code",
   "execution_count": 6,
   "id": "ae080979-79ce-4bf4-ad27-dc85fe6adbcc",
   "metadata": {},
   "outputs": [
    {
     "data": {
      "text/plain": [
       "<Axes: xlabel='sepal_length', ylabel='Count'>"
      ]
     },
     "execution_count": 6,
     "metadata": {},
     "output_type": "execute_result"
    },
    {
     "data": {
      "image/png": "[encoded data removed]",
      "text/plain": [
       "<Figure size 640x480 with 1 Axes>"
      ]
     },
     "metadata": {},
     "output_type": "display_data"
    }
   ],
   "source": [
    "# Practical example for PDF Probability Density Function\n",
    "from scipy.stats import norm\n",
    "\n",
    "x = np.linspace(-4, 4, 1000)\n",
    "pdf = norm.pdf(x, 0, 1) # with STD=1 and mean = 0\n",
    "\n",
    "# plot.plot(x, pdf, label=\"Normal Distribution PDF\", color='blue')\n",
    "plot.grid(True)\n",
    "\n",
    "# --------------------------------------------------------\n",
    "import matplotlib.pyplot as plot\n",
    "import seaborn as sbn\n",
    "%matplotlib inline\n",
    "\n",
    "df = sbn.load_dataset('iris')\n",
    "\n",
    "data = df['sepal_length']\n",
    "import seaborn as sbn\n",
    "\n",
    "sbn.histplot(data, kde=True, color='g', label='Data Histogram')\n",
    "\n"
   ]
  },
  {
   "cell_type": "markdown",
   "id": "9d2b558d-544b-44a2-94cb-9bf797d9b7ec",
   "metadata": {},
   "source": [
    "## CDF Cumulative Distribution Function "
   ]
  },
  {
   "cell_type": "code",
   "execution_count": 7,
   "id": "38783682-d7ea-4750-8c03-ee9abada08c3",
   "metadata": {},
   "outputs": [
    {
     "data": {
      "text/plain": [
       "(array([10.,  2.,  0.,  2.,  0.,  2.,  0.,  0.,  2.,  2.]),\n",
       " array([1.33830226e-04, 3.91403166e-02, 7.81468030e-02, 1.17153289e-01,\n",
       "        1.56159776e-01, 1.95166262e-01, 2.34172748e-01, 2.73179235e-01,\n",
       "        3.12185721e-01, 3.51192208e-01, 3.90198694e-01]),\n",
       " <BarContainer object of 10 artists>)"
      ]
     },
     "execution_count": 7,
     "metadata": {},
     "output_type": "execute_result"
    },
    {
     "data": {
      "image/png": "[encoded data removed]",
      "text/plain": [
       "<Figure size 640x480 with 1 Axes>"
      ]
     },
     "metadata": {},
     "output_type": "display_data"
    }
   ],
   "source": [
    "from scipy.stats import norm\n",
    "import numpy as np\n",
    "import matplotlib.pyplot as plot\n",
    "x = np.linspace(-4, 4, 20)\n",
    "pdf = norm.pdf(x, 0, 1)\n",
    "# plot.plot(x,pdf)\n",
    "plot.hist(pdf, bins=10)\n",
    "# plot.hist(x,)"
   ]
  },
  {
   "cell_type": "markdown",
   "id": "a9d1769a-06f2-4db8-bb51-59ac2689a189",
   "metadata": {},
   "source": [
    "- Z-score gives the relative position of a value within a normal distribution.\n",
    "- CDF translates that Z-score into a cumulative probability (the probability that the variable is less than or equal to that Z-score).\n",
    "\n"
   ]
  },
  {
   "cell_type": "code",
   "execution_count": 8,
   "id": "74f60c61-b508-42c5-91ec-ece576fc86ba",
   "metadata": {},
   "outputs": [
    {
     "data": {
      "text/plain": [
       "0.8413447460685429"
      ]
     },
     "execution_count": 8,
     "metadata": {},
     "output_type": "execute_result"
    }
   ],
   "source": [
    "norm.cdf(1)"
   ]
  },
  {
   "cell_type": "code",
   "execution_count": 9,
   "id": "a112277d-7bc7-43f8-bad3-38490bbe4f8d",
   "metadata": {},
   "outputs": [
    {
     "data": {
      "text/plain": [
       "0.24197072451914337"
      ]
     },
     "execution_count": 9,
     "metadata": {},
     "output_type": "execute_result"
    }
   ],
   "source": [
    "norm.pdf(1)"
   ]
  },
  {
   "cell_type": "markdown",
   "id": "2cebac1b-5e2a-453b-a01b-03c465637cd8",
   "metadata": {},
   "source": [
    "### Difference Between **PDF** (Probability Density Function) and **CDF** (Cumulative Distribution Function):\n",
    "\n",
    "| Aspect                      | **PDF (Probability Density Function)**                        | **CDF (Cumulative Distribution Function)**                      |\n",
    "|-----------------------------|--------------------------------------------------------------|----------------------------------------------------------------|\n",
    "| **Definition**               | Describes the relative likelihood of a continuous random variable taking a specific value. It represents the density of probability at a particular point. | Describes the cumulative probability that a random variable will take a value less than or equal to a specific value. |\n",
    "| **Function Type**            | Represents the density of probability, but the actual probability for a single point is always zero for continuous variables. The area under the curve gives the probability for an interval. | Gives the cumulative probability from the lower bound (typically $$ -\\infty $$) to a specified point. It is the integral of the PDF. |\n",
    "| **Mathematical Form**        | For a continuous random variable $$ X $$, the PDF $$ f(x) $$ is a derivative: $$ f(x) = \\frac{d}{dx} F(x) $$ | The CDF $$ F(x) $$ is an integral: $$ F(x) = \\int_{-\\infty}^{x} f(t) dt $$ |\n",
    "| **Range of Values**          | PDF values can be greater than 1 (but must satisfy that the total area under the curve equals 1). | CDF values range between 0 and 1, representing cumulative probability. |\n",
    "| **Interpretation**           | Describes how the probability is distributed over possible values of the random variable. | Describes the probability that the random variable is less than or equal to a certain value. |\n",
    "| **Graphical Representation** | The graph of a PDF is a curve that shows the distribution of probabilities. For example, in a normal distribution, it’s a bell-shaped curve. | The graph of a CDF is a monotonically increasing curve that starts at 0 and approaches 1. |\n",
    "| **Purpose**                  | Used to understand the distribution’s shape and density; helps find the probability over an interval. | Used to find cumulative probabilities, percentiles, and quantiles. |\n",
    "| **Area Under the Curve**     | The area under the PDF curve over an interval gives the probability that the variable falls within that interval. | The CDF at a point $$ x $$ gives the area under the PDF curve from $$ -\\infty $$ to $$ x $$. |\n",
    "| **Discrete/Continuous**      | Only applicable for continuous random variables. For discrete variables, a **Probability Mass Function (PMF)** is used instead. | Applies to both continuous and discrete random variables. For discrete variables, the CDF is the cumulative sum of the PMF. |\n",
    "| **Example**                  | For a standard normal distribution, the PDF gives the \"height\" of the curve at any given point, but the probability for a single point is zero. | The CDF gives the cumulative probability, such as the probability that a standard normal variable is less than or equal to 1 is $$ F(1) \\approx 0.8413 $$. |\n",
    "\n",
    "### Summary:\n",
    "\n",
    "- **PDF (Probability Density Function)**: Describes how probability is distributed across values of a continuous random variable. It is used to find probabilities over intervals, and the area under the curve represents these probabilities.\n",
    "- **CDF (Cumulative Distribution Function)**: Provides the cumulative probability up to a certain value and helps calculate probabilities for ranges of values, percentiles, and quantiles. It is derived from the integral of the PDF.\n",
    "\n",
    "The PDF and CDF work together to describe the full distribution of a random variable, with the PDF offering information about the likelihood at each point and the CDF providing the cumulative probabilities up to that point."
   ]
  },
  {
   "cell_type": "markdown",
   "id": "e398ee0a-212d-4027-b8d9-29b417044481",
   "metadata": {},
   "source": [
    "### Mean\n",
    "The mean of a sample is given by:\n",
    "$$\n",
    "\\bar{x} = \\frac{\\sum x_i}{n}\n",
    "$$\n",
    "\n",
    "### Variance\n",
    "The variance of a sample is:\n",
    "(\\\n",
    "s^2 = \\frac{\\sum (x_i - \\bar{x})^2}{n - 1}\n",
    "$$\n",
    "\n",
    "### Standard Deviation\n",
    "The standard deviation of a sample is:\n",
    "$$\n",
    "s = \\sqrt{\\frac{\\sum (x_i - \\bar{x})^2}{n - 1}}\n",
    "$$\n"
   ]
  },
  {
   "cell_type": "markdown",
   "id": "3f6ec6ff-2b75-425d-b745-4b5e2c2ccea5",
   "metadata": {},
   "source": [
    "**Bessel's correction** is a method used to correct the bias in the estimation of a population's variance and standard deviation when calculating these statistics from a sample. The correction is applied by using \\( n - 1 \\) in the denominator instead of \\( n \\), where \\( n \\) is the sample size.\n",
    "\n",
    "### **Why Bessel's Correction is Needed**\n",
    "\n",
    "When calculating the variance or standard deviation from a sample, using \\( n \\) in the denominator tends to **underestimate** the population's variance because the sample mean \\( \\bar{x} \\) is typically closer to the sample data points than the true population mean \\( \\mu \\) would be. This leads to smaller squared deviations, and thus, a biased (underestimated) variance.\n",
    "\n",
    "Bessel's correction adjusts for this bias by reducing the degrees of freedom by 1 (i.e., using \\( n - 1 \\)) when calculating the variance. This compensates for the fact that the sample mean is being used to estimate the population mean.\n",
    "\n",
    "### **Key Concepts**\n",
    "\n",
    "- **Sample Variance**: \n",
    "  \n",
    "  $$ s^2 = \\frac{1}{n - 1} \\sum_{i=1}^n (x_i - \\bar{x})^2 $$\n",
    "  \n",
    "  where:\n",
    "  - $ n $ is the sample size\n",
    "  - $ x_i $ are the individual data points in the sample\n",
    "  - $ \\bar{x} $ is the sample mean\n",
    "  \n",
    "- **Population Variance**: If you had data for the entire population, you would calculate variance as:\n",
    "  \n",
    "  $ \\sigma^2 = \\frac{1}{N} \\sum_{i=1}^N (x_i - \\mu)^2 $\n",
    "  \n",
    "  where:\n",
    "  - $ N $ is the population size\n",
    "  - $ \\mu $ is the population mean\n",
    "\n",
    "### **Degrees of Freedom**\n",
    "\n",
    "Bessel's correction is based on the idea of **degrees of freedom**. When estimating a population parameter from a sample, degrees of freedom represent the number of independent values that are free to vary when computing a statistic. Since one degree of freedom is \"used up\" by calculating the sample mean, the remaining degrees of freedom for the variance are \\( n - 1 \\).\n",
    "\n",
    "### **Effect of Bessel's Correction**\n",
    "\n",
    "- **With Bessel's correction (using \\( n - 1 \\))**, the sample variance becomes an **unbiased estimator** of the population variance. This means that, on average, the sample variance will equal the population variance.\n",
    "  \n",
    "- **Without Bessel's correction (using \\( n \\))**, the sample variance tends to underestimate the population variance, leading to a biased estimate.\n",
    "\n",
    "### **Summary**\n",
    "\n",
    "- **Bessel's correction** compensates for the bias that occurs when estimating the population variance from a sample.\n",
    "- It is applied by using \\( n - 1 \\) (instead of \\( n \\)) in the denominator when calculating variance or standard deviation from a sample.\n",
    "- This makes the variance and standard deviation **unbiased estimators** of their respective population parameters."
   ]
  },
  {
   "cell_type": "code",
   "execution_count": 9,
   "id": "f8747ddc-67d3-4d05-95ad-31f11cb0428d",
   "metadata": {},
   "outputs": [
    {
     "name": "stdout",
     "output_type": "stream",
     "text": [
      "Variance with Bessel's correction (unbiased): 18.666666666666668\n",
      "Variance without Bessel's correction (biased): 16.0\n"
     ]
    }
   ],
   "source": [
    "#Bessels correction\n",
    "\n",
    "import numpy as np\n",
    "\n",
    "# Sample data\n",
    "data = [10, 12, 14, 16, 18, 20, 22]\n",
    "\n",
    "# Variance with Bessel's correction (unbiased)\n",
    "variance_with_bessel = np.var(data, ddof=1)  # ddof=1 applies Bessel's correction\n",
    "\n",
    "# Variance without Bessel's correction (biased)\n",
    "variance_without_bessel = np.var(data, ddof=0)  # ddof=0 (default) does not apply Bessel's correction\n",
    "\n",
    "print(\"Variance with Bessel's correction (unbiased):\", variance_with_bessel)\n",
    "print(\"Variance without Bessel's correction (biased):\", variance_without_bessel)\n"
   ]
  },
  {
   "cell_type": "code",
   "execution_count": 10,
   "id": "37ccebc7-45dc-44d5-942a-cdbd370d2bb1",
   "metadata": {},
   "outputs": [
    {
     "data": {
      "image/png": "[encoded data removed]",
      "text/plain": [
       "<Figure size 640x480 with 1 Axes>"
      ]
     },
     "metadata": {},
     "output_type": "display_data"
    }
   ],
   "source": [
    "import matplotlib.pyplot as plt\n",
    "\n",
    "# Sample data\n",
    "data = [22, 25, 25, 30, 30, 30, 35, 40, 40]\n",
    "\n",
    "# Plot the histogram\n",
    "plt.hist(data, bins=[20, 30, 40, 50], edgecolor='black')\n",
    "\n",
    "# Add labels and title\n",
    "plt.xlabel('Age')\n",
    "plt.ylabel('Frequency')\n",
    "plt.title('Age Distribution')\n",
    "\n",
    "# Show the plot\n",
    "plt.show()\n"
   ]
  },
  {
   "cell_type": "code",
   "execution_count": 12,
   "id": "a2235920-279f-41b3-93ec-f3e8b2725203",
   "metadata": {},
   "outputs": [
    {
     "name": "stdout",
     "output_type": "stream",
     "text": [
      "Frequency Table:\n",
      "22    1\n",
      "25    2\n",
      "30    3\n",
      "35    1\n",
      "40    2\n",
      "Name: count, dtype: int64\n"
     ]
    },
    {
     "data": {
      "text/plain": [
       "(array([1., 2., 4.]),\n",
       " array([20, 25, 30, 35]),\n",
       " <BarContainer object of 3 artists>)"
      ]
     },
     "execution_count": 12,
     "metadata": {},
     "output_type": "execute_result"
    },
    {
     "data": {
      "image/png": "[encoded data removed]",
      "text/plain": [
       "<Figure size 640x480 with 1 Axes>"
      ]
     },
     "metadata": {},
     "output_type": "display_data"
    }
   ],
   "source": [
    "import pandas as pd\n",
    "import matplotlib.pyplot as plot\n",
    "# Sample data\n",
    "data = [22, 25, 25, 30, 30, 30, 35, 40, 40]\n",
    "\n",
    "# Create a pandas series from the data\n",
    "series = pd.Series(data)\n",
    "\n",
    "# Create a frequency table\n",
    "frequency_table = series.value_counts().sort_index()\n",
    "\n",
    "print(\"Frequency Table:\")\n",
    "print(frequency_table)\n",
    "plot.hist(data,bins=[20, 25, 30, 35])"
   ]
  },
  {
   "cell_type": "code",
   "execution_count": 11,
   "id": "ff45757d-99d1-4393-9efb-b05b17c8703b",
   "metadata": {},
   "outputs": [
    {
     "data": {
      "text/plain": [
       "<matplotlib.collections.PathCollection at 0x1de663d7a60>"
      ]
     },
     "execution_count": 11,
     "metadata": {},
     "output_type": "execute_result"
    },
    {
     "data": {
      "image/png": "[encoded data removed]",
      "text/plain": [
       "<Figure size 640x480 with 1 Axes>"
      ]
     },
     "metadata": {},
     "output_type": "display_data"
    }
   ],
   "source": [
    "# Scatter Plot: it is for small set of data\n",
    "import matplotlib.pyplot as plot\n",
    "import seaborn as sbn\n",
    "df = sbn.load_dataset(\"iris\")\n",
    "\n",
    "plot.scatter(x=df.sepal_length,y=df.petal_width)\n",
    "# plot.scatter(df.sepal_length  ,df.petal_width   )\n",
    "# df.info()"
   ]
  },
  {
   "cell_type": "code",
   "execution_count": 26,
   "id": "07e4e9a3-2488-458c-b803-21eee9cce606",
   "metadata": {},
   "outputs": [
    {
     "ename": "NameError",
     "evalue": "name 'corr' is not defined",
     "output_type": "error",
     "traceback": [
      "\u001b[1;31m---------------------------------------------------------------------------\u001b[0m",
      "\u001b[1;31mNameError\u001b[0m                                 Traceback (most recent call last)",
      "Cell \u001b[1;32mIn[26], line 9\u001b[0m\n\u001b[0;32m      6\u001b[0m df \u001b[38;5;241m=\u001b[39m sbn\u001b[38;5;241m.\u001b[39mload_dataset(\u001b[38;5;124m\"\u001b[39m\u001b[38;5;124miris\u001b[39m\u001b[38;5;124m\"\u001b[39m)\n\u001b[0;32m      8\u001b[0m \u001b[38;5;66;03m# sbn.heatmap(df.corr)\u001b[39;00m\n\u001b[1;32m----> 9\u001b[0m sbn\u001b[38;5;241m.\u001b[39mheatmap(\u001b[43mcorr\u001b[49m, annot\u001b[38;5;241m=\u001b[39m\u001b[38;5;28;01mTrue\u001b[39;00m, cmap\u001b[38;5;241m=\u001b[39m\u001b[38;5;124m\"\u001b[39m\u001b[38;5;124mcoolwarm\u001b[39m\u001b[38;5;124m\"\u001b[39m)\n\u001b[0;32m     10\u001b[0m \u001b[38;5;66;03m# sbn.heatmap(x=df.sepal_length,y=df.petal_width,gridsize=30, bins=10)\u001b[39;00m\n\u001b[0;32m     11\u001b[0m \u001b[38;5;66;03m# plot.hexbin(x=df.sepal_length,y=df.petal_width,gridsize=30, bins=10)\u001b[39;00m\n\u001b[0;32m     12\u001b[0m \u001b[38;5;66;03m# plot.scatter(df.sepal_length  ,df.petal_width   )\u001b[39;00m\n\u001b[0;32m     13\u001b[0m \u001b[38;5;66;03m# df.info()\u001b[39;00m\n",
      "\u001b[1;31mNameError\u001b[0m: name 'corr' is not defined"
     ]
    }
   ],
   "source": [
    "#Hexa Bin\n",
    "# Hexabin Plot: it is for large set of data\n",
    "import matplotlib.pyplot as plot\n",
    "import seaborn as sbn\n",
    "import numpy as np\n",
    "df = sbn.load_dataset(\"iris\")\n",
    "corr = df.corr()\n",
    "# sbn.heatmap(df.corr)\n",
    "sbn.heatmap(corr, annot=True, cmap=\"coolwarm\")\n",
    "# sbn.heatmap(x=df.sepal_length,y=df.petal_width,gridsize=30, bins=10)\n",
    "# plot.hexbin(x=df.sepal_length,y=df.petal_width,gridsize=30, bins=10)\n",
    "# plot.scatter(df.sepal_length  ,df.petal_width   )\n",
    "# df.info()"
   ]
  },
  {
   "cell_type": "code",
   "execution_count": null,
   "id": "92b68904-4467-4525-868a-f23eaaaffbb6",
   "metadata": {},
   "outputs": [],
   "source": [
    "!pip3 install plotnine matplotlib seaborn"
   ]
  },
  {
   "cell_type": "code",
   "execution_count": null,
   "id": "8bfa5775-8815-44d7-961d-0aff2868b17a",
   "metadata": {},
   "outputs": [],
   "source": [
    "# GG plot\n",
    "\n",
    "from plotnine import ggplot, aes, geom_point\n",
    "import seaborn as sbn\n",
    "df = sbn.load_dataset('iris')\n",
    "\n",
    "ggplot(df, aes(x='sepal_width', y='sepal_width')) + geom_point(color='red')"
   ]
  },
  {
   "cell_type": "code",
   "execution_count": null,
   "id": "06049cc1-8ead-491b-921a-59330b90f215",
   "metadata": {},
   "outputs": [],
   "source": [
    "!pip install plotnine\n",
    "!pip install --upgrade matplotlib"
   ]
  },
  {
   "cell_type": "code",
   "execution_count": null,
   "id": "53f91342-fcc8-4d95-b2ae-6db67ee72cbd",
   "metadata": {},
   "outputs": [],
   "source": [
    "!pip install plotnine seaborn ggplot"
   ]
  },
  {
   "cell_type": "code",
   "execution_count": null,
   "id": "4ea3588c-da9d-43bc-ab13-6c8f617685c5",
   "metadata": {},
   "outputs": [],
   "source": [
    "!pip install seaborn plotnine matplotlib"
   ]
  },
  {
   "cell_type": "code",
   "execution_count": null,
   "id": "27dcc327-17a2-4434-8837-b581cc9a741c",
   "metadata": {},
   "outputs": [],
   "source": [
    "from seaborn import Plot, load_dataset\n",
    "from plotnine import ggplot, aes, geom_point\n",
    "\n",
    "%matplotlib inline\n",
    "penguins = load_dataset('penguins')\n",
    "\n",
    "Plot(penguins, x=\"species\", y=\"body_mass_g\").add(so.Bar(), so.Agg())"
   ]
  },
  {
   "cell_type": "code",
   "execution_count": null,
   "id": "a6be9efa-b616-43c9-b0c5-5acf8b08fbc9",
   "metadata": {},
   "outputs": [],
   "source": [
    "!pip3 install seaborn plotnine matplotlib"
   ]
  },
  {
   "cell_type": "code",
   "execution_count": 15,
   "id": "2ec6de76-8d85-423b-9467-b1eba43bd1b3",
   "metadata": {},
   "outputs": [
    {
     "ename": "ModuleNotFoundError",
     "evalue": "No module named 'matplotlib.layout_engine'",
     "output_type": "error",
     "traceback": [
      "\u001b[1;31m---------------------------------------------------------------------------\u001b[0m",
      "\u001b[1;31mModuleNotFoundError\u001b[0m                       Traceback (most recent call last)",
      "File \u001b[1;32mc:\\users\\test\\appdata\\local\\programs\\python\\python39\\lib\\site-packages\\IPython\\core\\formatters.py:922\u001b[0m, in \u001b[0;36mIPythonDisplayFormatter.__call__\u001b[1;34m(self, obj)\u001b[0m\n\u001b[0;32m    920\u001b[0m method \u001b[38;5;241m=\u001b[39m get_real_method(obj, \u001b[38;5;28mself\u001b[39m\u001b[38;5;241m.\u001b[39mprint_method)\n\u001b[0;32m    921\u001b[0m \u001b[38;5;28;01mif\u001b[39;00m method \u001b[38;5;129;01mis\u001b[39;00m \u001b[38;5;129;01mnot\u001b[39;00m \u001b[38;5;28;01mNone\u001b[39;00m:\n\u001b[1;32m--> 922\u001b[0m     \u001b[43mmethod\u001b[49m\u001b[43m(\u001b[49m\u001b[43m)\u001b[49m\n\u001b[0;32m    923\u001b[0m     \u001b[38;5;28;01mreturn\u001b[39;00m \u001b[38;5;28;01mTrue\u001b[39;00m\n",
      "File \u001b[1;32mc:\\users\\test\\appdata\\local\\programs\\python\\python39\\lib\\site-packages\\plotnine\\ggplot.py:141\u001b[0m, in \u001b[0;36mggplot._ipython_display_\u001b[1;34m(self)\u001b[0m\n\u001b[0;32m    134\u001b[0m \u001b[38;5;28;01mdef\u001b[39;00m \u001b[38;5;21m_ipython_display_\u001b[39m(\u001b[38;5;28mself\u001b[39m):\n\u001b[0;32m    135\u001b[0m \u001b[38;5;250m    \u001b[39m\u001b[38;5;124;03m\"\"\"\u001b[39;00m\n\u001b[0;32m    136\u001b[0m \u001b[38;5;124;03m    Display plot in the output of the cell\u001b[39;00m\n\u001b[0;32m    137\u001b[0m \n\u001b[0;32m    138\u001b[0m \u001b[38;5;124;03m    This method will always be called when a ggplot object is the\u001b[39;00m\n\u001b[0;32m    139\u001b[0m \u001b[38;5;124;03m    last in the cell.\u001b[39;00m\n\u001b[0;32m    140\u001b[0m \u001b[38;5;124;03m    \"\"\"\u001b[39;00m\n\u001b[1;32m--> 141\u001b[0m     \u001b[38;5;28;43mself\u001b[39;49m\u001b[38;5;241;43m.\u001b[39;49m\u001b[43m_display\u001b[49m\u001b[43m(\u001b[49m\u001b[43m)\u001b[49m\n",
      "File \u001b[1;32mc:\\users\\test\\appdata\\local\\programs\\python\\python39\\lib\\site-packages\\plotnine\\ggplot.py:175\u001b[0m, in \u001b[0;36mggplot._display\u001b[1;34m(self)\u001b[0m\n\u001b[0;32m    172\u001b[0m     save_format \u001b[38;5;241m=\u001b[39m \u001b[38;5;124m\"\u001b[39m\u001b[38;5;124mpng\u001b[39m\u001b[38;5;124m\"\u001b[39m\n\u001b[0;32m    174\u001b[0m buf \u001b[38;5;241m=\u001b[39m BytesIO()\n\u001b[1;32m--> 175\u001b[0m \u001b[38;5;28;43mself\u001b[39;49m\u001b[38;5;241;43m.\u001b[39;49m\u001b[43msave\u001b[49m\u001b[43m(\u001b[49m\u001b[43mbuf\u001b[49m\u001b[43m,\u001b[49m\u001b[43m \u001b[49m\u001b[38;5;28;43mformat\u001b[39;49m\u001b[38;5;241;43m=\u001b[39;49m\u001b[43msave_format\u001b[49m\u001b[43m,\u001b[49m\u001b[43m \u001b[49m\u001b[43mverbose\u001b[49m\u001b[38;5;241;43m=\u001b[39;49m\u001b[38;5;28;43;01mFalse\u001b[39;49;00m\u001b[43m)\u001b[49m\n\u001b[0;32m    176\u001b[0m display_func \u001b[38;5;241m=\u001b[39m get_display_function(\u001b[38;5;28mformat\u001b[39m)\n\u001b[0;32m    177\u001b[0m display_func(buf\u001b[38;5;241m.\u001b[39mgetvalue())\n",
      "File \u001b[1;32mc:\\users\\test\\appdata\\local\\programs\\python\\python39\\lib\\site-packages\\plotnine\\ggplot.py:663\u001b[0m, in \u001b[0;36mggplot.save\u001b[1;34m(self, filename, format, path, width, height, units, dpi, limitsize, verbose, **kwargs)\u001b[0m\n\u001b[0;32m    615\u001b[0m \u001b[38;5;28;01mdef\u001b[39;00m \u001b[38;5;21msave\u001b[39m(\n\u001b[0;32m    616\u001b[0m     \u001b[38;5;28mself\u001b[39m,\n\u001b[0;32m    617\u001b[0m     filename: Optional[\u001b[38;5;28mstr\u001b[39m \u001b[38;5;241m|\u001b[39m Path \u001b[38;5;241m|\u001b[39m BytesIO] \u001b[38;5;241m=\u001b[39m \u001b[38;5;28;01mNone\u001b[39;00m,\n\u001b[1;32m   (...)\u001b[0m\n\u001b[0;32m    626\u001b[0m     \u001b[38;5;241m*\u001b[39m\u001b[38;5;241m*\u001b[39mkwargs: Any,\n\u001b[0;32m    627\u001b[0m ):\n\u001b[0;32m    628\u001b[0m \u001b[38;5;250m    \u001b[39m\u001b[38;5;124;03m\"\"\"\u001b[39;00m\n\u001b[0;32m    629\u001b[0m \u001b[38;5;124;03m    Save a ggplot object as an image file\u001b[39;00m\n\u001b[0;32m    630\u001b[0m \n\u001b[1;32m   (...)\u001b[0m\n\u001b[0;32m    661\u001b[0m \u001b[38;5;124;03m        Additional arguments to pass to matplotlib `savefig()`.\u001b[39;00m\n\u001b[0;32m    662\u001b[0m \u001b[38;5;124;03m    \"\"\"\u001b[39;00m\n\u001b[1;32m--> 663\u001b[0m     sv \u001b[38;5;241m=\u001b[39m \u001b[38;5;28mself\u001b[39m\u001b[38;5;241m.\u001b[39msave_helper(\n\u001b[0;32m    664\u001b[0m         filename\u001b[38;5;241m=\u001b[39mfilename,\n\u001b[0;32m    665\u001b[0m         \u001b[38;5;28mformat\u001b[39m\u001b[38;5;241m=\u001b[39m\u001b[38;5;28mformat\u001b[39m,\n\u001b[0;32m    666\u001b[0m         path\u001b[38;5;241m=\u001b[39mpath,\n\u001b[0;32m    667\u001b[0m         width\u001b[38;5;241m=\u001b[39mwidth,\n\u001b[0;32m    668\u001b[0m         height\u001b[38;5;241m=\u001b[39mheight,\n\u001b[0;32m    669\u001b[0m         units\u001b[38;5;241m=\u001b[39munits,\n\u001b[0;32m    670\u001b[0m         dpi\u001b[38;5;241m=\u001b[39mdpi,\n\u001b[0;32m    671\u001b[0m         limitsize\u001b[38;5;241m=\u001b[39mlimitsize,\n\u001b[0;32m    672\u001b[0m         verbose\u001b[38;5;241m=\u001b[39mverbose,\n\u001b[0;32m    673\u001b[0m         \u001b[38;5;241m*\u001b[39m\u001b[38;5;241m*\u001b[39mkwargs,\n\u001b[0;32m    674\u001b[0m     )\n\u001b[0;32m    676\u001b[0m     \u001b[38;5;28;01mwith\u001b[39;00m plot_context(\u001b[38;5;28mself\u001b[39m)\u001b[38;5;241m.\u001b[39mrc_context:\n\u001b[0;32m    677\u001b[0m         sv\u001b[38;5;241m.\u001b[39mfigure\u001b[38;5;241m.\u001b[39msavefig(\u001b[38;5;241m*\u001b[39m\u001b[38;5;241m*\u001b[39msv\u001b[38;5;241m.\u001b[39mkwargs)\n",
      "File \u001b[1;32mc:\\users\\test\\appdata\\local\\programs\\python\\python39\\lib\\site-packages\\plotnine\\ggplot.py:612\u001b[0m, in \u001b[0;36mggplot.save_helper\u001b[1;34m(self, filename, format, path, width, height, units, dpi, limitsize, verbose, **kwargs)\u001b[0m\n\u001b[0;32m    609\u001b[0m \u001b[38;5;28;01mif\u001b[39;00m dpi \u001b[38;5;129;01mis\u001b[39;00m \u001b[38;5;129;01mnot\u001b[39;00m \u001b[38;5;28;01mNone\u001b[39;00m:\n\u001b[0;32m    610\u001b[0m     \u001b[38;5;28mself\u001b[39m\u001b[38;5;241m.\u001b[39mtheme \u001b[38;5;241m=\u001b[39m \u001b[38;5;28mself\u001b[39m\u001b[38;5;241m.\u001b[39mtheme \u001b[38;5;241m+\u001b[39m theme(dpi\u001b[38;5;241m=\u001b[39mdpi)\n\u001b[1;32m--> 612\u001b[0m figure \u001b[38;5;241m=\u001b[39m \u001b[38;5;28;43mself\u001b[39;49m\u001b[38;5;241;43m.\u001b[39;49m\u001b[43mdraw\u001b[49m\u001b[43m(\u001b[49m\u001b[43mshow\u001b[49m\u001b[38;5;241;43m=\u001b[39;49m\u001b[38;5;28;43;01mFalse\u001b[39;49;00m\u001b[43m)\u001b[49m\n\u001b[0;32m    613\u001b[0m \u001b[38;5;28;01mreturn\u001b[39;00m mpl_save_view(figure, fig_kwargs)\n",
      "File \u001b[1;32mc:\\users\\test\\appdata\\local\\programs\\python\\python39\\lib\\site-packages\\plotnine\\ggplot.py:259\u001b[0m, in \u001b[0;36mggplot.draw\u001b[1;34m(self, show)\u001b[0m\n\u001b[0;32m    245\u001b[0m \u001b[38;5;28;01mdef\u001b[39;00m \u001b[38;5;21mdraw\u001b[39m(\u001b[38;5;28mself\u001b[39m, show: \u001b[38;5;28mbool\u001b[39m \u001b[38;5;241m=\u001b[39m \u001b[38;5;28;01mFalse\u001b[39;00m) \u001b[38;5;241m-\u001b[39m\u001b[38;5;241m>\u001b[39m Figure:\n\u001b[0;32m    246\u001b[0m \u001b[38;5;250m    \u001b[39m\u001b[38;5;124;03m\"\"\"\u001b[39;00m\n\u001b[0;32m    247\u001b[0m \u001b[38;5;124;03m    Render the complete plot\u001b[39;00m\n\u001b[0;32m    248\u001b[0m \n\u001b[1;32m   (...)\u001b[0m\n\u001b[0;32m    257\u001b[0m \u001b[38;5;124;03m        Matplotlib figure\u001b[39;00m\n\u001b[0;32m    258\u001b[0m \u001b[38;5;124;03m    \"\"\"\u001b[39;00m\n\u001b[1;32m--> 259\u001b[0m     \u001b[38;5;28;01mfrom\u001b[39;00m \u001b[38;5;21;01m.\u001b[39;00m\u001b[38;5;21;01m_mpl\u001b[39;00m\u001b[38;5;21;01m.\u001b[39;00m\u001b[38;5;21;01mlayout_engine\u001b[39;00m \u001b[38;5;28;01mimport\u001b[39;00m PlotnineLayoutEngine\n\u001b[0;32m    261\u001b[0m     \u001b[38;5;66;03m# Do not draw if drawn already.\u001b[39;00m\n\u001b[0;32m    262\u001b[0m     \u001b[38;5;66;03m# This prevents a needless error when reusing\u001b[39;00m\n\u001b[0;32m    263\u001b[0m     \u001b[38;5;66;03m# figure & axes in the jupyter notebook.\u001b[39;00m\n\u001b[0;32m    264\u001b[0m     \u001b[38;5;28;01mif\u001b[39;00m \u001b[38;5;28mhasattr\u001b[39m(\u001b[38;5;28mself\u001b[39m, \u001b[38;5;124m\"\u001b[39m\u001b[38;5;124mfigure\u001b[39m\u001b[38;5;124m\"\u001b[39m):\n",
      "File \u001b[1;32mc:\\users\\test\\appdata\\local\\programs\\python\\python39\\lib\\site-packages\\plotnine\\_mpl\\layout_engine.py:6\u001b[0m\n\u001b[0;32m      3\u001b[0m \u001b[38;5;28;01mimport\u001b[39;00m \u001b[38;5;21;01mtyping\u001b[39;00m\n\u001b[0;32m      4\u001b[0m \u001b[38;5;28;01mfrom\u001b[39;00m \u001b[38;5;21;01mdataclasses\u001b[39;00m \u001b[38;5;28;01mimport\u001b[39;00m asdict, dataclass\n\u001b[1;32m----> 6\u001b[0m \u001b[38;5;28;01mfrom\u001b[39;00m \u001b[38;5;21;01mmatplotlib\u001b[39;00m\u001b[38;5;21;01m.\u001b[39;00m\u001b[38;5;21;01mlayout_engine\u001b[39;00m \u001b[38;5;28;01mimport\u001b[39;00m LayoutEngine\n\u001b[0;32m      7\u001b[0m \u001b[38;5;28;01mfrom\u001b[39;00m \u001b[38;5;21;01mmatplotlib\u001b[39;00m\u001b[38;5;21;01m.\u001b[39;00m\u001b[38;5;21;01mtext\u001b[39;00m \u001b[38;5;28;01mimport\u001b[39;00m Text\n\u001b[0;32m      9\u001b[0m \u001b[38;5;28;01mif\u001b[39;00m typing\u001b[38;5;241m.\u001b[39mTYPE_CHECKING:\n",
      "\u001b[1;31mModuleNotFoundError\u001b[0m: No module named 'matplotlib.layout_engine'"
     ]
    },
    {
     "name": "stderr",
     "output_type": "stream",
     "text": [
      "c:\\users\\test\\appdata\\local\\programs\\python\\python39\\lib\\site-packages\\IPython\\lib\\pretty.py:778: FutureWarning: Using repr(plot) to draw and show the plot figure is deprecated and will be removed in a future version. Use plot.show().\n"
     ]
    },
    {
     "ename": "ModuleNotFoundError",
     "evalue": "No module named 'matplotlib.layout_engine'",
     "output_type": "error",
     "traceback": [
      "\u001b[1;31m---------------------------------------------------------------------------\u001b[0m",
      "\u001b[1;31mModuleNotFoundError\u001b[0m                       Traceback (most recent call last)",
      "File \u001b[1;32mc:\\users\\test\\appdata\\local\\programs\\python\\python39\\lib\\site-packages\\IPython\\core\\formatters.py:708\u001b[0m, in \u001b[0;36mPlainTextFormatter.__call__\u001b[1;34m(self, obj)\u001b[0m\n\u001b[0;32m    701\u001b[0m stream \u001b[38;5;241m=\u001b[39m StringIO()\n\u001b[0;32m    702\u001b[0m printer \u001b[38;5;241m=\u001b[39m pretty\u001b[38;5;241m.\u001b[39mRepresentationPrinter(stream, \u001b[38;5;28mself\u001b[39m\u001b[38;5;241m.\u001b[39mverbose,\n\u001b[0;32m    703\u001b[0m     \u001b[38;5;28mself\u001b[39m\u001b[38;5;241m.\u001b[39mmax_width, \u001b[38;5;28mself\u001b[39m\u001b[38;5;241m.\u001b[39mnewline,\n\u001b[0;32m    704\u001b[0m     max_seq_length\u001b[38;5;241m=\u001b[39m\u001b[38;5;28mself\u001b[39m\u001b[38;5;241m.\u001b[39mmax_seq_length,\n\u001b[0;32m    705\u001b[0m     singleton_pprinters\u001b[38;5;241m=\u001b[39m\u001b[38;5;28mself\u001b[39m\u001b[38;5;241m.\u001b[39msingleton_printers,\n\u001b[0;32m    706\u001b[0m     type_pprinters\u001b[38;5;241m=\u001b[39m\u001b[38;5;28mself\u001b[39m\u001b[38;5;241m.\u001b[39mtype_printers,\n\u001b[0;32m    707\u001b[0m     deferred_pprinters\u001b[38;5;241m=\u001b[39m\u001b[38;5;28mself\u001b[39m\u001b[38;5;241m.\u001b[39mdeferred_printers)\n\u001b[1;32m--> 708\u001b[0m \u001b[43mprinter\u001b[49m\u001b[38;5;241;43m.\u001b[39;49m\u001b[43mpretty\u001b[49m\u001b[43m(\u001b[49m\u001b[43mobj\u001b[49m\u001b[43m)\u001b[49m\n\u001b[0;32m    709\u001b[0m printer\u001b[38;5;241m.\u001b[39mflush()\n\u001b[0;32m    710\u001b[0m \u001b[38;5;28;01mreturn\u001b[39;00m stream\u001b[38;5;241m.\u001b[39mgetvalue()\n",
      "File \u001b[1;32mc:\\users\\test\\appdata\\local\\programs\\python\\python39\\lib\\site-packages\\IPython\\lib\\pretty.py:410\u001b[0m, in \u001b[0;36mRepresentationPrinter.pretty\u001b[1;34m(self, obj)\u001b[0m\n\u001b[0;32m    407\u001b[0m                         \u001b[38;5;28;01mreturn\u001b[39;00m meth(obj, \u001b[38;5;28mself\u001b[39m, cycle)\n\u001b[0;32m    408\u001b[0m                 \u001b[38;5;28;01mif\u001b[39;00m \u001b[38;5;28mcls\u001b[39m \u001b[38;5;129;01mis\u001b[39;00m \u001b[38;5;129;01mnot\u001b[39;00m \u001b[38;5;28mobject\u001b[39m \\\n\u001b[0;32m    409\u001b[0m                         \u001b[38;5;129;01mand\u001b[39;00m \u001b[38;5;28mcallable\u001b[39m(\u001b[38;5;28mcls\u001b[39m\u001b[38;5;241m.\u001b[39m\u001b[38;5;18m__dict__\u001b[39m\u001b[38;5;241m.\u001b[39mget(\u001b[38;5;124m'\u001b[39m\u001b[38;5;124m__repr__\u001b[39m\u001b[38;5;124m'\u001b[39m)):\n\u001b[1;32m--> 410\u001b[0m                     \u001b[38;5;28;01mreturn\u001b[39;00m \u001b[43m_repr_pprint\u001b[49m\u001b[43m(\u001b[49m\u001b[43mobj\u001b[49m\u001b[43m,\u001b[49m\u001b[43m \u001b[49m\u001b[38;5;28;43mself\u001b[39;49m\u001b[43m,\u001b[49m\u001b[43m \u001b[49m\u001b[43mcycle\u001b[49m\u001b[43m)\u001b[49m\n\u001b[0;32m    412\u001b[0m     \u001b[38;5;28;01mreturn\u001b[39;00m _default_pprint(obj, \u001b[38;5;28mself\u001b[39m, cycle)\n\u001b[0;32m    413\u001b[0m \u001b[38;5;28;01mfinally\u001b[39;00m:\n",
      "File \u001b[1;32mc:\\users\\test\\appdata\\local\\programs\\python\\python39\\lib\\site-packages\\IPython\\lib\\pretty.py:778\u001b[0m, in \u001b[0;36m_repr_pprint\u001b[1;34m(obj, p, cycle)\u001b[0m\n\u001b[0;32m    776\u001b[0m \u001b[38;5;250m\u001b[39m\u001b[38;5;124;03m\"\"\"A pprint that just redirects to the normal repr function.\"\"\"\u001b[39;00m\n\u001b[0;32m    777\u001b[0m \u001b[38;5;66;03m# Find newlines and replace them with p.break_()\u001b[39;00m\n\u001b[1;32m--> 778\u001b[0m output \u001b[38;5;241m=\u001b[39m \u001b[38;5;28;43mrepr\u001b[39;49m\u001b[43m(\u001b[49m\u001b[43mobj\u001b[49m\u001b[43m)\u001b[49m\n\u001b[0;32m    779\u001b[0m lines \u001b[38;5;241m=\u001b[39m output\u001b[38;5;241m.\u001b[39msplitlines()\n\u001b[0;32m    780\u001b[0m \u001b[38;5;28;01mwith\u001b[39;00m p\u001b[38;5;241m.\u001b[39mgroup():\n",
      "File \u001b[1;32mc:\\users\\test\\appdata\\local\\programs\\python\\python39\\lib\\site-packages\\plotnine\\ggplot.py:131\u001b[0m, in \u001b[0;36mggplot.__repr__\u001b[1;34m(self)\u001b[0m\n\u001b[0;32m    125\u001b[0m msg \u001b[38;5;241m=\u001b[39m (\n\u001b[0;32m    126\u001b[0m     \u001b[38;5;124m\"\u001b[39m\u001b[38;5;124mUsing repr(plot) to draw and show the plot figure is \u001b[39m\u001b[38;5;124m\"\u001b[39m\n\u001b[0;32m    127\u001b[0m     \u001b[38;5;124m\"\u001b[39m\u001b[38;5;124mdeprecated and will be removed in a future version. \u001b[39m\u001b[38;5;124m\"\u001b[39m\n\u001b[0;32m    128\u001b[0m     \u001b[38;5;124m\"\u001b[39m\u001b[38;5;124mUse plot.show().\u001b[39m\u001b[38;5;124m\"\u001b[39m\n\u001b[0;32m    129\u001b[0m )\n\u001b[0;32m    130\u001b[0m warn(msg, category\u001b[38;5;241m=\u001b[39m\u001b[38;5;167;01mFutureWarning\u001b[39;00m, stacklevel\u001b[38;5;241m=\u001b[39m\u001b[38;5;241m2\u001b[39m)\n\u001b[1;32m--> 131\u001b[0m \u001b[38;5;28;43mself\u001b[39;49m\u001b[38;5;241;43m.\u001b[39;49m\u001b[43mshow\u001b[49m\u001b[43m(\u001b[49m\u001b[43m)\u001b[49m\n\u001b[0;32m    132\u001b[0m \u001b[38;5;28;01mreturn\u001b[39;00m \u001b[38;5;124mf\u001b[39m\u001b[38;5;124m\"\u001b[39m\u001b[38;5;124m<Figure Size: (\u001b[39m\u001b[38;5;132;01m{\u001b[39;00mW\u001b[38;5;132;01m}\u001b[39;00m\u001b[38;5;124m x \u001b[39m\u001b[38;5;132;01m{\u001b[39;00mH\u001b[38;5;132;01m}\u001b[39;00m\u001b[38;5;124m)>\u001b[39m\u001b[38;5;124m\"\u001b[39m\n",
      "File \u001b[1;32mc:\\users\\test\\appdata\\local\\programs\\python\\python39\\lib\\site-packages\\plotnine\\ggplot.py:150\u001b[0m, in \u001b[0;36mggplot.show\u001b[1;34m(self)\u001b[0m\n\u001b[0;32m    143\u001b[0m \u001b[38;5;28;01mdef\u001b[39;00m \u001b[38;5;21mshow\u001b[39m(\u001b[38;5;28mself\u001b[39m):\n\u001b[0;32m    144\u001b[0m \u001b[38;5;250m    \u001b[39m\u001b[38;5;124;03m\"\"\"\u001b[39;00m\n\u001b[0;32m    145\u001b[0m \u001b[38;5;124;03m    Show plot using the matplotlib backend set by the user\u001b[39;00m\n\u001b[0;32m    146\u001b[0m \n\u001b[0;32m    147\u001b[0m \u001b[38;5;124;03m    Users should prefer this method instead of printing or repring\u001b[39;00m\n\u001b[0;32m    148\u001b[0m \u001b[38;5;124;03m    the object.\u001b[39;00m\n\u001b[0;32m    149\u001b[0m \u001b[38;5;124;03m    \"\"\"\u001b[39;00m\n\u001b[1;32m--> 150\u001b[0m     \u001b[38;5;28;43mself\u001b[39;49m\u001b[38;5;241;43m.\u001b[39;49m\u001b[43m_display\u001b[49m\u001b[43m(\u001b[49m\u001b[43m)\u001b[49m \u001b[38;5;28;01mif\u001b[39;00m is_inline_backend() \u001b[38;5;28;01melse\u001b[39;00m \u001b[38;5;28mself\u001b[39m\u001b[38;5;241m.\u001b[39mdraw(show\u001b[38;5;241m=\u001b[39m\u001b[38;5;28;01mTrue\u001b[39;00m)\n",
      "File \u001b[1;32mc:\\users\\test\\appdata\\local\\programs\\python\\python39\\lib\\site-packages\\plotnine\\ggplot.py:175\u001b[0m, in \u001b[0;36mggplot._display\u001b[1;34m(self)\u001b[0m\n\u001b[0;32m    172\u001b[0m     save_format \u001b[38;5;241m=\u001b[39m \u001b[38;5;124m\"\u001b[39m\u001b[38;5;124mpng\u001b[39m\u001b[38;5;124m\"\u001b[39m\n\u001b[0;32m    174\u001b[0m buf \u001b[38;5;241m=\u001b[39m BytesIO()\n\u001b[1;32m--> 175\u001b[0m \u001b[38;5;28;43mself\u001b[39;49m\u001b[38;5;241;43m.\u001b[39;49m\u001b[43msave\u001b[49m\u001b[43m(\u001b[49m\u001b[43mbuf\u001b[49m\u001b[43m,\u001b[49m\u001b[43m \u001b[49m\u001b[38;5;28;43mformat\u001b[39;49m\u001b[38;5;241;43m=\u001b[39;49m\u001b[43msave_format\u001b[49m\u001b[43m,\u001b[49m\u001b[43m \u001b[49m\u001b[43mverbose\u001b[49m\u001b[38;5;241;43m=\u001b[39;49m\u001b[38;5;28;43;01mFalse\u001b[39;49;00m\u001b[43m)\u001b[49m\n\u001b[0;32m    176\u001b[0m display_func \u001b[38;5;241m=\u001b[39m get_display_function(\u001b[38;5;28mformat\u001b[39m)\n\u001b[0;32m    177\u001b[0m display_func(buf\u001b[38;5;241m.\u001b[39mgetvalue())\n",
      "File \u001b[1;32mc:\\users\\test\\appdata\\local\\programs\\python\\python39\\lib\\site-packages\\plotnine\\ggplot.py:663\u001b[0m, in \u001b[0;36mggplot.save\u001b[1;34m(self, filename, format, path, width, height, units, dpi, limitsize, verbose, **kwargs)\u001b[0m\n\u001b[0;32m    615\u001b[0m \u001b[38;5;28;01mdef\u001b[39;00m \u001b[38;5;21msave\u001b[39m(\n\u001b[0;32m    616\u001b[0m     \u001b[38;5;28mself\u001b[39m,\n\u001b[0;32m    617\u001b[0m     filename: Optional[\u001b[38;5;28mstr\u001b[39m \u001b[38;5;241m|\u001b[39m Path \u001b[38;5;241m|\u001b[39m BytesIO] \u001b[38;5;241m=\u001b[39m \u001b[38;5;28;01mNone\u001b[39;00m,\n\u001b[1;32m   (...)\u001b[0m\n\u001b[0;32m    626\u001b[0m     \u001b[38;5;241m*\u001b[39m\u001b[38;5;241m*\u001b[39mkwargs: Any,\n\u001b[0;32m    627\u001b[0m ):\n\u001b[0;32m    628\u001b[0m \u001b[38;5;250m    \u001b[39m\u001b[38;5;124;03m\"\"\"\u001b[39;00m\n\u001b[0;32m    629\u001b[0m \u001b[38;5;124;03m    Save a ggplot object as an image file\u001b[39;00m\n\u001b[0;32m    630\u001b[0m \n\u001b[1;32m   (...)\u001b[0m\n\u001b[0;32m    661\u001b[0m \u001b[38;5;124;03m        Additional arguments to pass to matplotlib `savefig()`.\u001b[39;00m\n\u001b[0;32m    662\u001b[0m \u001b[38;5;124;03m    \"\"\"\u001b[39;00m\n\u001b[1;32m--> 663\u001b[0m     sv \u001b[38;5;241m=\u001b[39m \u001b[38;5;28mself\u001b[39m\u001b[38;5;241m.\u001b[39msave_helper(\n\u001b[0;32m    664\u001b[0m         filename\u001b[38;5;241m=\u001b[39mfilename,\n\u001b[0;32m    665\u001b[0m         \u001b[38;5;28mformat\u001b[39m\u001b[38;5;241m=\u001b[39m\u001b[38;5;28mformat\u001b[39m,\n\u001b[0;32m    666\u001b[0m         path\u001b[38;5;241m=\u001b[39mpath,\n\u001b[0;32m    667\u001b[0m         width\u001b[38;5;241m=\u001b[39mwidth,\n\u001b[0;32m    668\u001b[0m         height\u001b[38;5;241m=\u001b[39mheight,\n\u001b[0;32m    669\u001b[0m         units\u001b[38;5;241m=\u001b[39munits,\n\u001b[0;32m    670\u001b[0m         dpi\u001b[38;5;241m=\u001b[39mdpi,\n\u001b[0;32m    671\u001b[0m         limitsize\u001b[38;5;241m=\u001b[39mlimitsize,\n\u001b[0;32m    672\u001b[0m         verbose\u001b[38;5;241m=\u001b[39mverbose,\n\u001b[0;32m    673\u001b[0m         \u001b[38;5;241m*\u001b[39m\u001b[38;5;241m*\u001b[39mkwargs,\n\u001b[0;32m    674\u001b[0m     )\n\u001b[0;32m    676\u001b[0m     \u001b[38;5;28;01mwith\u001b[39;00m plot_context(\u001b[38;5;28mself\u001b[39m)\u001b[38;5;241m.\u001b[39mrc_context:\n\u001b[0;32m    677\u001b[0m         sv\u001b[38;5;241m.\u001b[39mfigure\u001b[38;5;241m.\u001b[39msavefig(\u001b[38;5;241m*\u001b[39m\u001b[38;5;241m*\u001b[39msv\u001b[38;5;241m.\u001b[39mkwargs)\n",
      "File \u001b[1;32mc:\\users\\test\\appdata\\local\\programs\\python\\python39\\lib\\site-packages\\plotnine\\ggplot.py:612\u001b[0m, in \u001b[0;36mggplot.save_helper\u001b[1;34m(self, filename, format, path, width, height, units, dpi, limitsize, verbose, **kwargs)\u001b[0m\n\u001b[0;32m    609\u001b[0m \u001b[38;5;28;01mif\u001b[39;00m dpi \u001b[38;5;129;01mis\u001b[39;00m \u001b[38;5;129;01mnot\u001b[39;00m \u001b[38;5;28;01mNone\u001b[39;00m:\n\u001b[0;32m    610\u001b[0m     \u001b[38;5;28mself\u001b[39m\u001b[38;5;241m.\u001b[39mtheme \u001b[38;5;241m=\u001b[39m \u001b[38;5;28mself\u001b[39m\u001b[38;5;241m.\u001b[39mtheme \u001b[38;5;241m+\u001b[39m theme(dpi\u001b[38;5;241m=\u001b[39mdpi)\n\u001b[1;32m--> 612\u001b[0m figure \u001b[38;5;241m=\u001b[39m \u001b[38;5;28;43mself\u001b[39;49m\u001b[38;5;241;43m.\u001b[39;49m\u001b[43mdraw\u001b[49m\u001b[43m(\u001b[49m\u001b[43mshow\u001b[49m\u001b[38;5;241;43m=\u001b[39;49m\u001b[38;5;28;43;01mFalse\u001b[39;49;00m\u001b[43m)\u001b[49m\n\u001b[0;32m    613\u001b[0m \u001b[38;5;28;01mreturn\u001b[39;00m mpl_save_view(figure, fig_kwargs)\n",
      "File \u001b[1;32mc:\\users\\test\\appdata\\local\\programs\\python\\python39\\lib\\site-packages\\plotnine\\ggplot.py:259\u001b[0m, in \u001b[0;36mggplot.draw\u001b[1;34m(self, show)\u001b[0m\n\u001b[0;32m    245\u001b[0m \u001b[38;5;28;01mdef\u001b[39;00m \u001b[38;5;21mdraw\u001b[39m(\u001b[38;5;28mself\u001b[39m, show: \u001b[38;5;28mbool\u001b[39m \u001b[38;5;241m=\u001b[39m \u001b[38;5;28;01mFalse\u001b[39;00m) \u001b[38;5;241m-\u001b[39m\u001b[38;5;241m>\u001b[39m Figure:\n\u001b[0;32m    246\u001b[0m \u001b[38;5;250m    \u001b[39m\u001b[38;5;124;03m\"\"\"\u001b[39;00m\n\u001b[0;32m    247\u001b[0m \u001b[38;5;124;03m    Render the complete plot\u001b[39;00m\n\u001b[0;32m    248\u001b[0m \n\u001b[1;32m   (...)\u001b[0m\n\u001b[0;32m    257\u001b[0m \u001b[38;5;124;03m        Matplotlib figure\u001b[39;00m\n\u001b[0;32m    258\u001b[0m \u001b[38;5;124;03m    \"\"\"\u001b[39;00m\n\u001b[1;32m--> 259\u001b[0m     \u001b[38;5;28;01mfrom\u001b[39;00m \u001b[38;5;21;01m.\u001b[39;00m\u001b[38;5;21;01m_mpl\u001b[39;00m\u001b[38;5;21;01m.\u001b[39;00m\u001b[38;5;21;01mlayout_engine\u001b[39;00m \u001b[38;5;28;01mimport\u001b[39;00m PlotnineLayoutEngine\n\u001b[0;32m    261\u001b[0m     \u001b[38;5;66;03m# Do not draw if drawn already.\u001b[39;00m\n\u001b[0;32m    262\u001b[0m     \u001b[38;5;66;03m# This prevents a needless error when reusing\u001b[39;00m\n\u001b[0;32m    263\u001b[0m     \u001b[38;5;66;03m# figure & axes in the jupyter notebook.\u001b[39;00m\n\u001b[0;32m    264\u001b[0m     \u001b[38;5;28;01mif\u001b[39;00m \u001b[38;5;28mhasattr\u001b[39m(\u001b[38;5;28mself\u001b[39m, \u001b[38;5;124m\"\u001b[39m\u001b[38;5;124mfigure\u001b[39m\u001b[38;5;124m\"\u001b[39m):\n",
      "File \u001b[1;32mc:\\users\\test\\appdata\\local\\programs\\python\\python39\\lib\\site-packages\\plotnine\\_mpl\\layout_engine.py:6\u001b[0m\n\u001b[0;32m      3\u001b[0m \u001b[38;5;28;01mimport\u001b[39;00m \u001b[38;5;21;01mtyping\u001b[39;00m\n\u001b[0;32m      4\u001b[0m \u001b[38;5;28;01mfrom\u001b[39;00m \u001b[38;5;21;01mdataclasses\u001b[39;00m \u001b[38;5;28;01mimport\u001b[39;00m asdict, dataclass\n\u001b[1;32m----> 6\u001b[0m \u001b[38;5;28;01mfrom\u001b[39;00m \u001b[38;5;21;01mmatplotlib\u001b[39;00m\u001b[38;5;21;01m.\u001b[39;00m\u001b[38;5;21;01mlayout_engine\u001b[39;00m \u001b[38;5;28;01mimport\u001b[39;00m LayoutEngine\n\u001b[0;32m      7\u001b[0m \u001b[38;5;28;01mfrom\u001b[39;00m \u001b[38;5;21;01mmatplotlib\u001b[39;00m\u001b[38;5;21;01m.\u001b[39;00m\u001b[38;5;21;01mtext\u001b[39;00m \u001b[38;5;28;01mimport\u001b[39;00m Text\n\u001b[0;32m      9\u001b[0m \u001b[38;5;28;01mif\u001b[39;00m typing\u001b[38;5;241m.\u001b[39mTYPE_CHECKING:\n",
      "\u001b[1;31mModuleNotFoundError\u001b[0m: No module named 'matplotlib.layout_engine'"
     ]
    }
   ],
   "source": [
    "from plotnine import ggplot, aes, geom_point\n",
    "import pandas as pd\n",
    "# Create a dataframe\n",
    "data = {'x': [1, 2, 3, 4, 5], 'y': [2, 4, 6, 8, 10]}\n",
    "df = pd.DataFrame(data)\n",
    "# Create a scatter plot\n",
    "(ggplot(df, aes(x='x', y='y')) + geom_point())"
   ]
  },
  {
   "cell_type": "code",
   "execution_count": null,
   "id": "77c48a18-a337-4e9c-bc8c-2bc32ab69ad5",
   "metadata": {},
   "outputs": [],
   "source": [
    "!pip install --upgrade matplotlib"
   ]
  },
  {
   "cell_type": "code",
   "execution_count": null,
   "id": "93edff21-9585-4251-a3ef-075807270b93",
   "metadata": {},
   "outputs": [],
   "source": []
  }
 ],
 "metadata": {
  "kernelspec": {
   "display_name": "Python 3 (ipykernel)",
   "language": "python",
   "name": "python3"
  },
  "language_info": {
   "codemirror_mode": {
    "name": "ipython",
    "version": 3
   },
   "file_extension": ".py",
   "mimetype": "text/x-python",
   "name": "python",
   "nbconvert_exporter": "python",
   "pygments_lexer": "ipython3",
   "version": "3.9.0"
  }
 },
 "nbformat": 4,
 "nbformat_minor": 5
}
