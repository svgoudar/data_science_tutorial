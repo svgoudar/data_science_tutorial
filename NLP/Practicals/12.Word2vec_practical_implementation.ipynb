{
 "cells": [
  {
   "cell_type": "code",
   "execution_count": 1,
   "execution_state": "idle",
   "id": "904c7a68-8680-4abb-ace9-d75eca5333a4",
   "metadata": {},
   "outputs": [
    {
     "name": "stdout",
     "output_type": "stream",
     "text": [
      "Collecting gensim"
     ]
    },
    {
     "name": "stderr",
     "output_type": "stream",
     "text": [
      "\n",
      "[notice] A new release of pip is available: 24.2 -> 24.3.1\n",
      "[notice] To update, run: python.exe -m pip install --upgrade pip\n"
     ]
    },
    {
     "name": "stdout",
     "output_type": "stream",
     "text": [
      "\n",
      "  Downloading gensim-4.3.3-cp39-cp39-win_amd64.whl.metadata (8.2 kB)\n",
      "Requirement already satisfied: numpy<2.0,>=1.18.5 in c:\\users\\test\\appdata\\local\\programs\\python\\python39\\lib\\site-packages (from gensim) (1.26.4)\n",
      "Requirement already satisfied: scipy<1.14.0,>=1.7.0 in c:\\users\\test\\appdata\\local\\programs\\python\\python39\\lib\\site-packages (from gensim) (1.13.1)\n",
      "Collecting smart-open>=1.8.1 (from gensim)\n",
      "  Downloading smart_open-7.1.0-py3-none-any.whl.metadata (24 kB)\n",
      "Requirement already satisfied: wrapt in c:\\users\\test\\appdata\\local\\programs\\python\\python39\\lib\\site-packages (from smart-open>=1.8.1->gensim) (1.16.0)\n",
      "Downloading gensim-4.3.3-cp39-cp39-win_amd64.whl (24.0 MB)\n",
      "   ---------------------------------------- 0.0/24.0 MB ? eta -:--:--\n",
      "    --------------------------------------- 0.5/24.0 MB 3.3 MB/s eta 0:00:08\n",
      "   -- ------------------------------------- 1.3/24.0 MB 3.4 MB/s eta 0:00:07\n",
      "   --- ------------------------------------ 1.8/24.0 MB 3.1 MB/s eta 0:00:08\n",
      "   ---- ----------------------------------- 2.6/24.0 MB 3.1 MB/s eta 0:00:07\n",
      "   ----- ---------------------------------- 3.4/24.0 MB 3.2 MB/s eta 0:00:07\n",
      "   ------ --------------------------------- 4.2/24.0 MB 3.2 MB/s eta 0:00:07\n",
      "   ------- -------------------------------- 4.7/24.0 MB 3.1 MB/s eta 0:00:07\n",
      "   --------- ------------------------------ 5.5/24.0 MB 3.1 MB/s eta 0:00:06\n",
      "   ---------- ----------------------------- 6.0/24.0 MB 3.2 MB/s eta 0:00:06\n",
      "   ----------- ---------------------------- 6.8/24.0 MB 3.1 MB/s eta 0:00:06\n",
      "   ------------ --------------------------- 7.3/24.0 MB 3.2 MB/s eta 0:00:06\n",
      "   ------------- -------------------------- 8.4/24.0 MB 3.2 MB/s eta 0:00:05\n",
      "   ------------- -------------------------- 8.4/24.0 MB 3.2 MB/s eta 0:00:05\n",
      "   --------------- ------------------------ 9.2/24.0 MB 3.0 MB/s eta 0:00:05\n",
      "   ---------------- ----------------------- 10.0/24.0 MB 3.0 MB/s eta 0:00:05\n",
      "   ----------------- ---------------------- 10.5/24.0 MB 3.1 MB/s eta 0:00:05\n",
      "   ------------------ --------------------- 11.3/24.0 MB 3.0 MB/s eta 0:00:05\n",
      "   ------------------- -------------------- 11.8/24.0 MB 3.0 MB/s eta 0:00:05\n",
      "   -------------------- ------------------- 12.6/24.0 MB 3.0 MB/s eta 0:00:04\n",
      "   --------------------- ------------------ 13.1/24.0 MB 3.0 MB/s eta 0:00:04\n",
      "   ---------------------- ----------------- 13.6/24.0 MB 3.0 MB/s eta 0:00:04\n",
      "   ----------------------- ---------------- 13.9/24.0 MB 2.9 MB/s eta 0:00:04\n",
      "   ------------------------ --------------- 14.4/24.0 MB 2.9 MB/s eta 0:00:04\n",
      "   ------------------------ --------------- 14.9/24.0 MB 2.9 MB/s eta 0:00:04\n",
      "   ------------------------- -------------- 15.5/24.0 MB 2.9 MB/s eta 0:00:03\n",
      "   -------------------------- ------------- 16.0/24.0 MB 2.9 MB/s eta 0:00:03\n",
      "   --------------------------- ------------ 16.5/24.0 MB 2.8 MB/s eta 0:00:03\n",
      "   ---------------------------- ----------- 17.3/24.0 MB 2.8 MB/s eta 0:00:03\n",
      "   ----------------------------- ---------- 17.8/24.0 MB 2.8 MB/s eta 0:00:03\n",
      "   ------------------------------ --------- 18.1/24.0 MB 2.8 MB/s eta 0:00:03\n",
      "   ------------------------------- -------- 18.9/24.0 MB 2.8 MB/s eta 0:00:02\n",
      "   -------------------------------- ------- 19.4/24.0 MB 2.8 MB/s eta 0:00:02\n",
      "   --------------------------------- ------ 20.2/24.0 MB 2.8 MB/s eta 0:00:02\n",
      "   ---------------------------------- ----- 21.0/24.0 MB 2.8 MB/s eta 0:00:02\n",
      "   ----------------------------------- ---- 21.5/24.0 MB 2.8 MB/s eta 0:00:01\n",
      "   ------------------------------------ --- 22.0/24.0 MB 2.8 MB/s eta 0:00:01\n",
      "   ------------------------------------ --- 22.0/24.0 MB 2.8 MB/s eta 0:00:01\n",
      "   ------------------------------------- -- 22.3/24.0 MB 2.7 MB/s eta 0:00:01\n",
      "   -------------------------------------- - 23.1/24.0 MB 2.7 MB/s eta 0:00:01\n",
      "   ---------------------------------------  23.6/24.0 MB 2.7 MB/s eta 0:00:01\n",
      "   ---------------------------------------  23.9/24.0 MB 2.7 MB/s eta 0:00:01\n",
      "   ---------------------------------------  23.9/24.0 MB 2.7 MB/s eta 0:00:01\n",
      "   ---------------------------------------  23.9/24.0 MB 2.7 MB/s eta 0:00:01\n",
      "   ---------------------------------------- 24.0/24.0 MB 2.5 MB/s eta 0:00:00\n",
      "Downloading smart_open-7.1.0-py3-none-any.whl (61 kB)\n",
      "Installing collected packages: smart-open, gensim\n",
      "Successfully installed gensim-4.3.3 smart-open-7.1.0\n"
     ]
    }
   ],
   "source": [
    "!pip install gensim"
   ]
  },
  {
   "cell_type": "code",
   "execution_count": 2,
   "execution_state": "idle",
   "id": "67a33a34-802d-4736-b5d2-77eac9f2cbee",
   "metadata": {},
   "outputs": [],
   "source": [
    "import gensim"
   ]
  },
  {
   "cell_type": "code",
   "execution_count": 3,
   "execution_state": "idle",
   "id": "162ed627-1a5e-47e5-88c1-2cbd73ac0037",
   "metadata": {},
   "outputs": [],
   "source": [
    "from gensim.models import Word2Vec, KeyedVectors"
   ]
  },
  {
   "cell_type": "code",
   "execution_count": 4,
   "execution_state": "idle",
   "id": "f69e2d7f-3d1a-41a9-9968-b51cd45b7147",
   "metadata": {},
   "outputs": [],
   "source": [
    "## References: https://stackoverflow.com/questions/46433778/import-googlenews-vectors-negative300-bin\n"
   ]
  },
  {
   "cell_type": "code",
   "execution_count": null,
   "id": "54823ce6-db61-4239-8ad4-578d76893d34",
   "metadata": {},
   "outputs": [],
   "source": []
  }
 ],
 "metadata": {
  "kernelspec": {
   "display_name": "Python 3 (ipykernel)",
   "language": "python",
   "name": "python3"
  },
  "language_info": {
   "codemirror_mode": {
    "name": "ipython",
    "version": 3
   },
   "file_extension": ".py",
   "mimetype": "text/x-python",
   "name": "python",
   "nbconvert_exporter": "python",
   "pygments_lexer": "ipython3",
   "version": "3.9.0"
  }
 },
 "nbformat": 4,
 "nbformat_minor": 5
}
