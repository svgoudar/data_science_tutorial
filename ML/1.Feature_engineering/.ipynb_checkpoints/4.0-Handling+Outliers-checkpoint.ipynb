{
 "cells": [
  {
   "cell_type": "markdown",
   "id": "23d5863b-2303-45f0-8e98-18c58b5e7b81",
   "metadata": {},
   "source": [
    "**Creating a Box Plot in Python: A Step-by-Step Guide**\n",
    "\n",
    "In this video, we will learn how to construct a **box plot** using Python and discuss related statistical concepts. We'll cover how to calculate the **five-number summary** (minimum, Q1, median, Q3, and maximum), identify outliers using **Interquartile Range (IQR)**, and visualize data with a **box plot**. Let’s dive in!\n",
    "\n",
    "---\n",
    "\n",
    "### **What is a Box Plot?**\n",
    "A box plot is a graphical representation of the distribution of a dataset. It highlights:\n",
    "- Minimum value\n",
    "- First quartile (Q1, 25th percentile)\n",
    "- Median (50th percentile)\n",
    "- Third quartile (Q3, 75th percentile)\n",
    "- Maximum value\n",
    "- Outliers (if any)\n",
    "\n",
    "---\n",
    "\n",
    "### **Steps to Create a Box Plot**\n",
    "1. **Calculate the Five-Number Summary**\n",
    "   - **Minimum**: The smallest value in the dataset.\n",
    "   - **Q1 (25th Percentile)**: Value below which 25% of the data falls.\n",
    "   - **Median (50th Percentile)**: Middle value when the data is ordered.\n",
    "   - **Q3 (75th Percentile)**: Value below which 75% of the data falls.\n",
    "   - **Maximum**: The largest value in the dataset.\n",
    "\n",
    "2. **Identify Outliers Using IQR**\n",
    "   - **IQR (Interquartile Range)**: \\( \\text{IQR} = Q3 - Q1 \\)\n",
    "   - **Lower Fence**: \\( Q1 - 1.5 \\times \\text{IQR} \\)\n",
    "   - **Upper Fence**: \\( Q3 + 1.5 \\times \\text{IQR} \\)\n",
    "   - Any value below the lower fence or above the upper fence is considered an **outlier**.\n",
    "\n",
    "3. **Visualize with a Box Plot**\n",
    "   - Use libraries like **Seaborn** to easily generate box plots.\n",
    "\n",
    "---\n",
    "\n",
    "### **Python Implementation**\n",
    "Let’s use Python to compute the five-number summary and create a box plot.\n",
    "\n",
    "#### **Step 1: Import Libraries**\n",
    "```python\n",
    "import numpy as np\n",
    "import seaborn as sns\n",
    "import matplotlib.pyplot as plt\n",
    "```\n",
    "\n",
    "#### **Step 2: Prepare the Data**\n",
    "```python\n",
    "# Sample data\n",
    "marks = [45, 32, 56, 75, 89, 54, 32, 89, 90, 87, 67, 54, 45, 98, 99, 67, 74]\n",
    "```\n",
    "\n",
    "#### **Step 3: Compute the Five-Number Summary**\n",
    "```python\n",
    "# Compute percentiles using numpy\n",
    "minimum, Q1, median, Q3, maximum = np.quantile(marks, [0, 0.25, 0.5, 0.75, 1.0])\n",
    "\n",
    "# Display the results\n",
    "print(\"Minimum:\", minimum)\n",
    "print(\"Q1 (25th percentile):\", Q1)\n",
    "print(\"Median (50th percentile):\", median)\n",
    "print(\"Q3 (75th percentile):\", Q3)\n",
    "print(\"Maximum:\", maximum)\n",
    "```\n",
    "\n",
    "#### **Step 4: Calculate IQR and Fences**\n",
    "```python\n",
    "# Calculate IQR\n",
    "IQR = Q3 - Q1\n",
    "\n",
    "# Calculate lower and upper fences\n",
    "lower_fence = Q1 - 1.5 * IQR\n",
    "upper_fence = Q3 + 1.5 * IQR\n",
    "\n",
    "print(\"IQR:\", IQR)\n",
    "print(\"Lower Fence:\", lower_fence)\n",
    "print(\"Upper Fence:\", upper_fence)\n",
    "```\n",
    "\n",
    "#### **Step 5: Create the Box Plot**\n",
    "```python\n",
    "# Create a box plot using Seaborn\n",
    "sns.boxplot(data=marks, orient='v')\n",
    "plt.title(\"Box Plot of Marks\")\n",
    "plt.show()\n",
    "```\n",
    "\n",
    "#### **Step 6: Add Outliers**\n",
    "Let’s modify the data to include some outliers.\n",
    "```python\n",
    "# Add outliers\n",
    "marks_with_outliers = marks + [-100, -200, 150, 170]\n",
    "\n",
    "# Create a box plot with outliers\n",
    "sns.boxplot(data=marks_with_outliers, orient='v')\n",
    "plt.title(\"Box Plot with Outliers\")\n",
    "plt.show()\n",
    "```\n",
    "\n",
    "---\n",
    "\n",
    "### **Key Observations**\n",
    "- The **box plot** provides a visual summary of the data's distribution.\n",
    "- **Outliers** are marked as dots beyond the fences.\n",
    "- The central box shows the interquartile range, while the line inside represents the **median**.\n",
    "\n",
    "---\n",
    "\n",
    "### **Summary**\n",
    "In this video, we:\n",
    "- Calculated the **five-number summary**.\n",
    "- Identified outliers using **IQR and fences**.\n",
    "- Visualized data with a **box plot** using Seaborn.\n",
    "\n",
    "By understanding these concepts, you can easily summarize and visualize any dataset. Thank you for watching, and I’ll see you in the next video!"
   ]
  },
  {
   "cell_type": "code",
   "execution_count": 2,
   "id": "6bd59460-5620-4747-aaef-ca2a4205ccac",
   "metadata": {},
   "outputs": [
    {
     "name": "stdout",
     "output_type": "stream",
     "text": [
      "Minimum: 32.0\n",
      "Q1 (25th percentile): 54.0\n",
      "Median (50th percentile): 67.0\n",
      "Q3 (75th percentile): 89.0\n",
      "Maximum: 99.0\n",
      "IQR: 35.0\n",
      "Lower Fence: 1.5\n",
      "Upper Fence: 141.5\n"
     ]
    },
    {
     "data": {
      "image/png": "[encoded data removed]",
      "text/plain": [
       "<Figure size 640x480 with 1 Axes>"
      ]
     },
     "metadata": {},
     "output_type": "display_data"
    },
    {
     "data": {
      "image/png": "[encoded data removed]",
      "text/plain": [
       "<Figure size 640x480 with 1 Axes>"
      ]
     },
     "metadata": {},
     "output_type": "display_data"
    }
   ],
   "source": [
    "import numpy as np\n",
    "import seaborn as sns\n",
    "import matplotlib.pyplot as plt\n",
    "# Sample data\n",
    "marks = [45, 32, 56, 75, 89, 54, 32, 89, 90, 87, 67, 54, 45, 98, 99, 67, 74]\n",
    "# Compute percentiles using numpy\n",
    "minimum, Q1, median, Q3, maximum = np.quantile(marks, [0, 0.25, 0.5, 0.75, 1.0])\n",
    "\n",
    "# Display the results\n",
    "print(\"Minimum:\", minimum)\n",
    "print(\"Q1 (25th percentile):\", Q1)\n",
    "print(\"Median (50th percentile):\", median)\n",
    "print(\"Q3 (75th percentile):\", Q3)\n",
    "print(\"Maximum:\", maximum)\n",
    "# Calculate IQR\n",
    "IQR = Q3 - Q1\n",
    "\n",
    "# Calculate lower and upper fences\n",
    "lower_fence = Q1 - 1.5 * IQR\n",
    "upper_fence = Q3 + 1.5 * IQR\n",
    "\n",
    "print(\"IQR:\", IQR)\n",
    "print(\"Lower Fence:\", lower_fence)\n",
    "print(\"Upper Fence:\", upper_fence)\n",
    "# Create a box plot using Seaborn\n",
    "sns.boxplot(data=marks, orient='v')\n",
    "plt.title(\"Box Plot of Marks\")\n",
    "plt.show()\n",
    "\n",
    "# Add outliers\n",
    "marks_with_outliers = marks + [-100, -200, 150, 170]\n",
    "\n",
    "# Create a box plot with outliers\n",
    "sns.boxplot(data=marks_with_outliers, orient='v')\n",
    "plt.title(\"Box Plot with Outliers\")\n",
    "plt.show()"
   ]
  },
  {
   "cell_type": "code",
   "execution_count": null,
   "id": "91b0a8dd-6577-4c50-ae97-bf3435c59e95",
   "metadata": {},
   "outputs": [],
   "source": []
  },
  {
   "cell_type": "code",
   "execution_count": null,
   "id": "216c192b-11c5-4c22-9caf-3c97f0bb875f",
   "metadata": {},
   "outputs": [],
   "source": []
  },
  {
   "cell_type": "code",
   "execution_count": null,
   "id": "501a11e8-f81e-4134-8d30-50bd04f4c438",
   "metadata": {},
   "outputs": [],
   "source": []
  },
  {
   "cell_type": "code",
   "execution_count": null,
   "id": "616b08ea-84f4-4879-be57-1cd163af3f4a",
   "metadata": {},
   "outputs": [],
   "source": []
  },
  {
   "cell_type": "code",
   "execution_count": null,
   "id": "55541785-5766-49a7-9229-3ecac1d80846",
   "metadata": {},
   "outputs": [],
   "source": []
  },
  {
   "cell_type": "code",
   "execution_count": null,
   "id": "f2b9cd40-7e02-4847-bcb8-f38f4b7e458c",
   "metadata": {},
   "outputs": [],
   "source": []
  },
  {
   "cell_type": "code",
   "execution_count": null,
   "id": "b7dd5db4-86c7-44ff-82da-f621595ed6cd",
   "metadata": {},
   "outputs": [],
   "source": []
  },
  {
   "cell_type": "code",
   "execution_count": null,
   "id": "fb58e635-0cf4-465e-b671-ea08b3f21d70",
   "metadata": {},
   "outputs": [],
   "source": []
  },
  {
   "cell_type": "code",
   "execution_count": null,
   "id": "0b29bdba-35c4-4468-a47f-d117e7f3f3ed",
   "metadata": {},
   "outputs": [],
   "source": []
  },
  {
   "cell_type": "code",
   "execution_count": null,
   "id": "eb7146b4-3a73-4875-923f-4a6446d4a13e",
   "metadata": {},
   "outputs": [],
   "source": []
  },
  {
   "cell_type": "code",
   "execution_count": null,
   "id": "0ec044c7-9d6d-4f9b-9d04-de11726c8933",
   "metadata": {},
   "outputs": [],
   "source": []
  },
  {
   "cell_type": "code",
   "execution_count": null,
   "id": "7336cb0c-6927-444c-a51c-7138c99e0f63",
   "metadata": {},
   "outputs": [],
   "source": []
  },
  {
   "cell_type": "code",
   "execution_count": null,
   "id": "7d3f7d1a-600e-45a3-bab1-82677fc9d1b5",
   "metadata": {},
   "outputs": [],
   "source": []
  },
  {
   "cell_type": "markdown",
   "id": "9a0268f0-ef24-4a91-829d-a349856a40bf",
   "metadata": {},
   "source": [
    "## 5 number Summary And Box Plot"
   ]
  },
  {
   "cell_type": "code",
   "execution_count": 1,
   "id": "8b07cdf2-c8ee-4078-b906-89735d4d2789",
   "metadata": {},
   "outputs": [],
   "source": [
    "## Minimum,MAximum,Median,Q1,Q3,IQR"
   ]
  },
  {
   "cell_type": "code",
   "execution_count": 2,
   "id": "ec419cc5-7f01-448a-b140-5bb57b463336",
   "metadata": {},
   "outputs": [],
   "source": [
    "import numpy as np"
   ]
  },
  {
   "cell_type": "code",
   "execution_count": 3,
   "id": "f5ad4dc0-f110-44fc-acd7-0e70e6feece7",
   "metadata": {},
   "outputs": [],
   "source": [
    "lst_marks=[45,32,56,75,89,54,32,89,90,87,67,54,45,98,99,67,74]\n",
    "minimum,Q1,median,Q3,maximum=np.quantile(lst_marks,[0,0.25,0.50,0.75,1.0])"
   ]
  },
  {
   "cell_type": "code",
   "execution_count": 8,
   "id": "0dbbfee2-dfae-458d-a2ab-e1eb3e4cffed",
   "metadata": {},
   "outputs": [
    {
     "data": {
      "text/plain": [
       "(32.0, 54.0, 67.0, 89.0, 99.0)"
      ]
     },
     "execution_count": 8,
     "metadata": {},
     "output_type": "execute_result"
    }
   ],
   "source": [
    "minimum,Q1,median,Q3,maximum"
   ]
  },
  {
   "cell_type": "code",
   "execution_count": 9,
   "id": "dc9f9703-3fe8-419c-ba76-28fa48cf5d17",
   "metadata": {},
   "outputs": [
    {
     "name": "stdout",
     "output_type": "stream",
     "text": [
      "35.0\n"
     ]
    }
   ],
   "source": [
    "IQR=Q3-Q1\n",
    "print(IQR)"
   ]
  },
  {
   "cell_type": "code",
   "execution_count": 11,
   "id": "e9a4c199-8a0c-4ff0-aa5d-43e8c39ef9ec",
   "metadata": {},
   "outputs": [],
   "source": [
    "lower_fence=Q1-1.5*(IQR)\n",
    "higher_fence=Q3+1.5*(IQR)\n"
   ]
  },
  {
   "cell_type": "code",
   "execution_count": 12,
   "id": "14b431fb-70e0-4b64-8c30-03cc62e223d6",
   "metadata": {},
   "outputs": [
    {
     "data": {
      "text/plain": [
       "1.5"
      ]
     },
     "execution_count": 12,
     "metadata": {},
     "output_type": "execute_result"
    }
   ],
   "source": [
    "lower_fence"
   ]
  },
  {
   "cell_type": "code",
   "execution_count": 13,
   "id": "a1e02d6e-4c55-4244-a86a-896d90d30f60",
   "metadata": {},
   "outputs": [
    {
     "data": {
      "text/plain": [
       "141.5"
      ]
     },
     "execution_count": 13,
     "metadata": {},
     "output_type": "execute_result"
    }
   ],
   "source": [
    "higher_fence"
   ]
  },
  {
   "cell_type": "code",
   "execution_count": 14,
   "id": "b9f977b8-6f08-4a34-adea-9c141902af42",
   "metadata": {},
   "outputs": [],
   "source": [
    "lst_marks=[45,32,56,75,89,54,32,89,90,87,67,54,45,98,99,67,74]"
   ]
  },
  {
   "cell_type": "code",
   "execution_count": 15,
   "id": "73c5492b-2fff-47b6-9c59-369db982a50f",
   "metadata": {},
   "outputs": [],
   "source": [
    "import seaborn as sns"
   ]
  },
  {
   "cell_type": "code",
   "execution_count": 17,
   "id": "dd5c627a-2867-4467-82d7-6c272c279d1b",
   "metadata": {},
   "outputs": [
    {
     "data": {
      "text/plain": [
       "<AxesSubplot: >"
      ]
     },
     "execution_count": 17,
     "metadata": {},
     "output_type": "execute_result"
    },
    {
     "data": {
      "image/png": "[encoded data removed]",
      "text/plain": [
       "<Figure size 640x480 with 1 Axes>"
      ]
     },
     "metadata": {},
     "output_type": "display_data"
    }
   ],
   "source": [
    "sns.boxplot(lst_marks)"
   ]
  },
  {
   "cell_type": "code",
   "execution_count": 20,
   "id": "f2973d0b-ae24-45e7-86d0-fd8163e93185",
   "metadata": {},
   "outputs": [],
   "source": [
    "lst_marks=[-100,-200,45,32,56,75,89,54,32,89,90,87,67,54,45,98,99,67,74,150,170,180]"
   ]
  },
  {
   "cell_type": "code",
   "execution_count": 21,
   "id": "51e31dff-b00d-4132-a914-91f8a31a5605",
   "metadata": {},
   "outputs": [
    {
     "data": {
      "text/plain": [
       "<AxesSubplot: >"
      ]
     },
     "execution_count": 21,
     "metadata": {},
     "output_type": "execute_result"
    },
    {
     "data": {
      "image/png": "[encoded data removed]",
      "text/plain": [
       "<Figure size 640x480 with 1 Axes>"
      ]
     },
     "metadata": {},
     "output_type": "display_data"
    }
   ],
   "source": [
    "sns.boxplot(lst_marks)"
   ]
  },
  {
   "cell_type": "code",
   "execution_count": null,
   "id": "57eff423-80d8-45ed-b8b7-50446e63faa5",
   "metadata": {},
   "outputs": [],
   "source": []
  },
  {
   "cell_type": "code",
   "execution_count": null,
   "id": "887c0cfa-4dc2-4e96-a82d-506ffadbe71e",
   "metadata": {},
   "outputs": [],
   "source": []
  }
 ],
 "metadata": {
  "kernelspec": {
   "display_name": "Python 3 (ipykernel)",
   "language": "python",
   "name": "python3"
  },
  "language_info": {
   "codemirror_mode": {
    "name": "ipython",
    "version": 3
   },
   "file_extension": ".py",
   "mimetype": "text/x-python",
   "name": "python",
   "nbconvert_exporter": "python",
   "pygments_lexer": "ipython3",
   "version": "3.9.0"
  }
 },
 "nbformat": 4,
 "nbformat_minor": 5
}
